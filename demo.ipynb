{
 "cells": [
  {
   "cell_type": "markdown",
   "metadata": {},
   "source": [
    "## 1.导入numpy、取名为np,并打印numpy的版本和配置信息"
   ]
  },
  {
   "cell_type": "code",
   "execution_count": 1,
   "metadata": {},
   "outputs": [
    {
     "name": "stdout",
     "output_type": "stream",
     "text": [
      "blas_mkl_info:\n",
      "    libraries = ['mkl_rt']\n",
      "    library_dirs = ['D:/Anaconda3\\\\Library\\\\lib']\n",
      "    define_macros = [('SCIPY_MKL_H', None), ('HAVE_CBLAS', None)]\n",
      "    include_dirs = ['D:/Anaconda3\\\\Library\\\\include']\n",
      "blas_opt_info:\n",
      "    libraries = ['mkl_rt']\n",
      "    library_dirs = ['D:/Anaconda3\\\\Library\\\\lib']\n",
      "    define_macros = [('SCIPY_MKL_H', None), ('HAVE_CBLAS', None)]\n",
      "    include_dirs = ['D:/Anaconda3\\\\Library\\\\include']\n",
      "lapack_mkl_info:\n",
      "    libraries = ['mkl_rt']\n",
      "    library_dirs = ['D:/Anaconda3\\\\Library\\\\lib']\n",
      "    define_macros = [('SCIPY_MKL_H', None), ('HAVE_CBLAS', None)]\n",
      "    include_dirs = ['D:/Anaconda3\\\\Library\\\\include']\n",
      "lapack_opt_info:\n",
      "    libraries = ['mkl_rt']\n",
      "    library_dirs = ['D:/Anaconda3\\\\Library\\\\lib']\n",
      "    define_macros = [('SCIPY_MKL_H', None), ('HAVE_CBLAS', None)]\n",
      "    include_dirs = ['D:/Anaconda3\\\\Library\\\\include']\n",
      "版本为1.19.2，配置信息为：None\n"
     ]
    }
   ],
   "source": [
    "import numpy as np\n",
    "print(\"版本为{0}，配置信息为：{1}\".format(np.__version__,np.show_config()))"
   ]
  },
  {
   "cell_type": "markdown",
   "metadata": {},
   "source": [
    "## 2.创建长度为10的零向量"
   ]
  },
  {
   "cell_type": "code",
   "execution_count": 2,
   "metadata": {},
   "outputs": [
    {
     "name": "stdout",
     "output_type": "stream",
     "text": [
      "[0. 0. 0. 0. 0. 0. 0. 0. 0. 0.]\n"
     ]
    }
   ],
   "source": [
    "z = np.zeros(10)\n",
    "print(z)"
   ]
  },
  {
   "cell_type": "markdown",
   "metadata": {},
   "source": [
    "## 3.获取数组所占内存大小"
   ]
  },
  {
   "cell_type": "code",
   "execution_count": 3,
   "metadata": {},
   "outputs": [
    {
     "name": "stdout",
     "output_type": "stream",
     "text": [
      "800\n"
     ]
    }
   ],
   "source": [
    "z = np.zeros((10,10))\n",
    "print(z.itemsize*z.size)   #itemsize 对象中每个元素的大小，以字节为单位\n",
    "# size 对象中元素个数"
   ]
  },
  {
   "cell_type": "markdown",
   "metadata": {},
   "source": [
    "## 4.获取numpy add函数的文档说明"
   ]
  },
  {
   "cell_type": "code",
   "execution_count": 4,
   "metadata": {},
   "outputs": [
    {
     "name": "stdout",
     "output_type": "stream",
     "text": [
      "add(x1, x2, /, out=None, *, where=True, casting='same_kind', order='K', dtype=None, subok=True[, signature, extobj])\n",
      "\n",
      "Add arguments element-wise.\n",
      "\n",
      "Parameters\n",
      "----------\n",
      "x1, x2 : array_like\n",
      "    The arrays to be added.\n",
      "    If ``x1.shape != x2.shape``, they must be broadcastable to a common\n",
      "    shape (which becomes the shape of the output).\n",
      "out : ndarray, None, or tuple of ndarray and None, optional\n",
      "    A location into which the result is stored. If provided, it must have\n",
      "    a shape that the inputs broadcast to. If not provided or None,\n",
      "    a freshly-allocated array is returned. A tuple (possible only as a\n",
      "    keyword argument) must have length equal to the number of outputs.\n",
      "where : array_like, optional\n",
      "    This condition is broadcast over the input. At locations where the\n",
      "    condition is True, the `out` array will be set to the ufunc result.\n",
      "    Elsewhere, the `out` array will retain its original value.\n",
      "    Note that if an uninitialized `out` array is created via the default\n",
      "    ``out=None``, locations within it where the condition is False will\n",
      "    remain uninitialized.\n",
      "**kwargs\n",
      "    For other keyword-only arguments, see the\n",
      "    :ref:`ufunc docs <ufuncs.kwargs>`.\n",
      "\n",
      "Returns\n",
      "-------\n",
      "add : ndarray or scalar\n",
      "    The sum of `x1` and `x2`, element-wise.\n",
      "    This is a scalar if both `x1` and `x2` are scalars.\n",
      "\n",
      "Notes\n",
      "-----\n",
      "Equivalent to `x1` + `x2` in terms of array broadcasting.\n",
      "\n",
      "Examples\n",
      "--------\n",
      ">>> np.add(1.0, 4.0)\n",
      "5.0\n",
      ">>> x1 = np.arange(9.0).reshape((3, 3))\n",
      ">>> x2 = np.arange(3.0)\n",
      ">>> np.add(x1, x2)\n",
      "array([[  0.,   2.,   4.],\n",
      "       [  3.,   5.,   7.],\n",
      "       [  6.,   8.,  10.]])\n"
     ]
    }
   ],
   "source": [
    "np.info(np.add)"
   ]
  },
  {
   "cell_type": "markdown",
   "metadata": {},
   "source": [
    "## 5.创建一个长度为10的零向量，并把第五个值赋值为1"
   ]
  },
  {
   "cell_type": "code",
   "execution_count": 5,
   "metadata": {},
   "outputs": [
    {
     "name": "stdout",
     "output_type": "stream",
     "text": [
      "[0. 0. 0. 0. 1. 0. 0. 0. 0. 0.]\n"
     ]
    }
   ],
   "source": [
    "z = np.zeros(10)\n",
    "z[4] = 1\n",
    "print(z)"
   ]
  },
  {
   "cell_type": "markdown",
   "metadata": {},
   "source": [
    "## 6.创建一个值域为10到49的向量"
   ]
  },
  {
   "cell_type": "code",
   "execution_count": 6,
   "metadata": {},
   "outputs": [
    {
     "name": "stdout",
     "output_type": "stream",
     "text": [
      "[10 11 12 13 14 15 16 17 18 19 20 21 22 23 24 25 26 27 28 29 30 31 32 33\n",
      " 34 35 36 37 38 39 40 41 42 43 44 45 46 47 48 49]\n"
     ]
    }
   ],
   "source": [
    "z = np.arange(10,50)\n",
    "print(z)"
   ]
  },
  {
   "cell_type": "markdown",
   "metadata": {},
   "source": [
    "## 7.将一个向量反转"
   ]
  },
  {
   "cell_type": "code",
   "execution_count": 7,
   "metadata": {},
   "outputs": [
    {
     "name": "stdout",
     "output_type": "stream",
     "text": [
      "原向量为[0 1 2 3 4 5 6 7 8 9]\n",
      "反转后向量[9 8 7 6 5 4 3 2 1 0]\n"
     ]
    }
   ],
   "source": [
    "z = np.arange(10)\n",
    "print(\"原向量为{}\".format(z))\n",
    "z = z[::-1]\n",
    "print(\"反转后向量{}\".format(z))"
   ]
  },
  {
   "cell_type": "markdown",
   "metadata": {},
   "source": [
    "## 8.创建一个3x3的矩阵，并且值域为0到8"
   ]
  },
  {
   "cell_type": "code",
   "execution_count": 8,
   "metadata": {},
   "outputs": [
    {
     "name": "stdout",
     "output_type": "stream",
     "text": [
      "[[0 1 2]\n",
      " [3 4 5]\n",
      " [6 7 8]]\n"
     ]
    }
   ],
   "source": [
    "z = np.arange(9).reshape(3,3)\n",
    "print(z)"
   ]
  },
  {
   "cell_type": "markdown",
   "metadata": {},
   "source": [
    "## 9.从数组[1,2,0,0,4,0]中找出非0元素的位置索引"
   ]
  },
  {
   "cell_type": "code",
   "execution_count": 9,
   "metadata": {},
   "outputs": [
    {
     "name": "stdout",
     "output_type": "stream",
     "text": [
      "(array([0, 1, 4], dtype=int64),)\n"
     ]
    }
   ],
   "source": [
    "z = np.array([1,2,0,0,4,0])\n",
    "nz = np.nonzero(z)  # 返回输入数组中非零元素的索引\n",
    "print(nz)"
   ]
  },
  {
   "cell_type": "markdown",
   "metadata": {},
   "source": [
    "## 10.创建一个3x3的单位矩阵"
   ]
  },
  {
   "cell_type": "code",
   "execution_count": 10,
   "metadata": {},
   "outputs": [
    {
     "name": "stdout",
     "output_type": "stream",
     "text": [
      "[[1. 0. 0.]\n",
      " [0. 1. 0.]\n",
      " [0. 0. 1.]]\n"
     ]
    }
   ],
   "source": [
    "z = np.eye(3)\n",
    "print(z)"
   ]
  },
  {
   "cell_type": "markdown",
   "metadata": {},
   "source": [
    "## 11.创建一个3x3x3的随机数组"
   ]
  },
  {
   "cell_type": "code",
   "execution_count": 11,
   "metadata": {},
   "outputs": [
    {
     "name": "stdout",
     "output_type": "stream",
     "text": [
      "[[[0.95971571 0.39339246 0.81415438]\n",
      "  [0.3567975  0.29904655 0.11864849]\n",
      "  [0.67703386 0.30089169 0.59954079]]\n",
      "\n",
      " [[0.47439575 0.01116656 0.76080965]\n",
      "  [0.30898141 0.0946395  0.43280167]\n",
      "  [0.64710291 0.85709429 0.4149329 ]]\n",
      "\n",
      " [[0.2604899  0.48683811 0.15112744]\n",
      "  [0.57610551 0.9389184  0.64490556]\n",
      "  [0.67001285 0.93451073 0.2456044 ]]]\n"
     ]
    }
   ],
   "source": [
    "z = np.random.random((3,3,3))\n",
    "print(z)"
   ]
  },
  {
   "cell_type": "markdown",
   "metadata": {},
   "source": [
    "## 12.创建一个10x10的随机数组，并找出该数组中的最大值与最小值"
   ]
  },
  {
   "cell_type": "code",
   "execution_count": 12,
   "metadata": {},
   "outputs": [
    {
     "name": "stdout",
     "output_type": "stream",
     "text": [
      "0.999859916527066 0.0014982404887597944\n"
     ]
    }
   ],
   "source": [
    "z = np.random.random((10,10))\n",
    "zmax,zmin = z.max(),z.min()\n",
    "print(zmax,zmin)"
   ]
  },
  {
   "cell_type": "markdown",
   "metadata": {},
   "source": [
    "## 13.创建一个长度为30的随机向量，并求它的平均值"
   ]
  },
  {
   "cell_type": "code",
   "execution_count": 13,
   "metadata": {},
   "outputs": [
    {
     "name": "stdout",
     "output_type": "stream",
     "text": [
      "0.5160926869352772\n"
     ]
    }
   ],
   "source": [
    "z = np.random.random(30)\n",
    "mean = z.mean()\n",
    "print(mean)"
   ]
  },
  {
   "cell_type": "markdown",
   "metadata": {},
   "source": [
    "## 14.创建一个2维数组，该数组边界值为1，内部值为0"
   ]
  },
  {
   "cell_type": "code",
   "execution_count": 14,
   "metadata": {},
   "outputs": [
    {
     "name": "stdout",
     "output_type": "stream",
     "text": [
      "[[1. 1. 1. 1. 1. 1. 1. 1. 1. 1.]\n",
      " [1. 0. 0. 0. 0. 0. 0. 0. 0. 1.]\n",
      " [1. 0. 0. 0. 0. 0. 0. 0. 0. 1.]\n",
      " [1. 0. 0. 0. 0. 0. 0. 0. 0. 1.]\n",
      " [1. 0. 0. 0. 0. 0. 0. 0. 0. 1.]\n",
      " [1. 0. 0. 0. 0. 0. 0. 0. 0. 1.]\n",
      " [1. 0. 0. 0. 0. 0. 0. 0. 0. 1.]\n",
      " [1. 0. 0. 0. 0. 0. 0. 0. 0. 1.]\n",
      " [1. 0. 0. 0. 0. 0. 0. 0. 0. 1.]\n",
      " [1. 1. 1. 1. 1. 1. 1. 1. 1. 1.]]\n"
     ]
    }
   ],
   "source": [
    "z = np.ones((10,10))\n",
    "z[1:-1,1:-1] = 0\n",
    "print(z)"
   ]
  },
  {
   "cell_type": "markdown",
   "metadata": {},
   "source": [
    "## 15.用0填充数组边界"
   ]
  },
  {
   "cell_type": "code",
   "execution_count": 15,
   "metadata": {},
   "outputs": [
    {
     "name": "stdout",
     "output_type": "stream",
     "text": [
      "[[0. 0. 0. 0. 0. 0. 0. 0. 0. 0.]\n",
      " [0. 1. 1. 1. 1. 1. 1. 1. 1. 0.]\n",
      " [0. 1. 1. 1. 1. 1. 1. 1. 1. 0.]\n",
      " [0. 1. 1. 1. 1. 1. 1. 1. 1. 0.]\n",
      " [0. 1. 1. 1. 1. 1. 1. 1. 1. 0.]\n",
      " [0. 1. 1. 1. 1. 1. 1. 1. 1. 0.]\n",
      " [0. 1. 1. 1. 1. 1. 1. 1. 1. 0.]\n",
      " [0. 1. 1. 1. 1. 1. 1. 1. 1. 0.]\n",
      " [0. 1. 1. 1. 1. 1. 1. 1. 1. 0.]\n",
      " [0. 0. 0. 0. 0. 0. 0. 0. 0. 0.]]\n"
     ]
    }
   ],
   "source": [
    "z = np.zeros((10,10))\n",
    "z[1:-1,1:-1] = 1\n",
    "print(z)"
   ]
  },
  {
   "cell_type": "code",
   "execution_count": 16,
   "metadata": {},
   "outputs": [
    {
     "name": "stdout",
     "output_type": "stream",
     "text": [
      "[[0. 0. 0. 0. 0. 0. 0. 0. 0. 0. 0. 0.]\n",
      " [0. 1. 1. 1. 1. 1. 1. 1. 1. 1. 1. 0.]\n",
      " [0. 1. 1. 1. 1. 1. 1. 1. 1. 1. 1. 0.]\n",
      " [0. 1. 1. 1. 1. 1. 1. 1. 1. 1. 1. 0.]\n",
      " [0. 1. 1. 1. 1. 1. 1. 1. 1. 1. 1. 0.]\n",
      " [0. 1. 1. 1. 1. 1. 1. 1. 1. 1. 1. 0.]\n",
      " [0. 1. 1. 1. 1. 1. 1. 1. 1. 1. 1. 0.]\n",
      " [0. 1. 1. 1. 1. 1. 1. 1. 1. 1. 1. 0.]\n",
      " [0. 1. 1. 1. 1. 1. 1. 1. 1. 1. 1. 0.]\n",
      " [0. 1. 1. 1. 1. 1. 1. 1. 1. 1. 1. 0.]\n",
      " [0. 1. 1. 1. 1. 1. 1. 1. 1. 1. 1. 0.]\n",
      " [0. 0. 0. 0. 0. 0. 0. 0. 0. 0. 0. 0.]]\n"
     ]
    }
   ],
   "source": [
    "z = np.ones((10, 10))\n",
    "z = np.pad(z, pad_width=1, mode='constant', constant_values=0)  #对数组进行填充，卷积神经网络中，为了避免图片边缘像素点不能有效得到使用，同时，在卷积之后，图片被不断压缩的情况，我们有一个重要的操作叫做padding，翻译为填充，主要是通过在图片周围填充一定量的像素点来避免上述两种问题的产生\n",
    "print (z)"
   ]
  },
  {
   "cell_type": "markdown",
   "metadata": {},
   "source": [
    "## 16. Nan 和 地址比较（区别于数值比较）"
   ]
  },
  {
   "cell_type": "code",
   "execution_count": 17,
   "metadata": {},
   "outputs": [
    {
     "name": "stdout",
     "output_type": "stream",
     "text": [
      "nan\n",
      "False\n",
      "False\n",
      "nan\n",
      "False\n"
     ]
    }
   ],
   "source": [
    "# None是一个python特殊的数据类型， 但是NaN却是用一个特殊的float\n",
    "                         \n",
    "print(0 * np.nan)                       \n",
    "print(np.nan == np.nan)                  \n",
    "print(np.inf > np.nan)                   \n",
    "print(np.nan - np.nan)                  \n",
    "print(0.3 == 3 * 0.1)                   "
   ]
  },
  {
   "cell_type": "markdown",
   "metadata": {},
   "source": [
    "## 17.创建一个5x5的矩阵，且设置1,2,3,4在其对角线下面的一行"
   ]
  },
  {
   "cell_type": "code",
   "execution_count": 18,
   "metadata": {},
   "outputs": [
    {
     "name": "stdout",
     "output_type": "stream",
     "text": [
      "[[0 0 0 0 0]\n",
      " [1 0 0 0 0]\n",
      " [0 2 0 0 0]\n",
      " [0 0 3 0 0]\n",
      " [0 0 0 4 0]]\n"
     ]
    }
   ],
   "source": [
    "z = np.diag([1, 2, 3, 4], k=-1) # k=-1保证了偏移  k为正数时，向上偏移，负数向下\n",
    "print (z)  \n",
    "# array是一个1维数组时，结果形成一个以一维数组为对角线元素的矩阵\n",
    "\n",
    "# array是一个二维矩阵时，结果输出矩阵的对角线元素''' "
   ]
  },
  {
   "cell_type": "markdown",
   "metadata": {},
   "source": [
    "## 18.创建一个8x8的国际象棋棋盘矩阵"
   ]
  },
  {
   "cell_type": "code",
   "execution_count": 19,
   "metadata": {},
   "outputs": [
    {
     "name": "stdout",
     "output_type": "stream",
     "text": [
      "[[0 1 0 1 0 1 0 1]\n",
      " [1 0 1 0 1 0 1 0]\n",
      " [0 1 0 1 0 1 0 1]\n",
      " [1 0 1 0 1 0 1 0]\n",
      " [0 1 0 1 0 1 0 1]\n",
      " [1 0 1 0 1 0 1 0]\n",
      " [0 1 0 1 0 1 0 1]\n",
      " [1 0 1 0 1 0 1 0]]\n"
     ]
    }
   ],
   "source": [
    "z = np.zeros((8, 8), dtype=int)\n",
    "z[1::2, ::2] = 1 # 第2，4，6，8行，1，3，5，7列\n",
    "z[::2, 1::2] = 1 # 第1，3，5，7行，2，4，6，8列\n",
    "print (z)"
   ]
  },
  {
   "cell_type": "markdown",
   "metadata": {},
   "source": [
    "## 19.形状为(6, 7, 8)的数组的形状，且第100个元素的索引(x, y, z)分别是什么？"
   ]
  },
  {
   "cell_type": "code",
   "execution_count": 20,
   "metadata": {},
   "outputs": [
    {
     "name": "stdout",
     "output_type": "stream",
     "text": [
      "(1, 5, 4)\n"
     ]
    }
   ],
   "source": [
    "print (np.unravel_index(100, (6, 7, 8))) #获取一个索引值在一个多维数组中的位置。"
   ]
  },
  {
   "cell_type": "markdown",
   "metadata": {},
   "source": [
    "## 20.用tile函数创建一个8x8的棋盘矩阵"
   ]
  },
  {
   "cell_type": "code",
   "execution_count": 21,
   "metadata": {},
   "outputs": [
    {
     "name": "stdout",
     "output_type": "stream",
     "text": [
      "[[1 0 1 0 1 0 1 0]\n",
      " [0 1 0 1 0 1 0 1]\n",
      " [1 0 1 0 1 0 1 0]\n",
      " [0 1 0 1 0 1 0 1]\n",
      " [1 0 1 0 1 0 1 0]\n",
      " [0 1 0 1 0 1 0 1]\n",
      " [1 0 1 0 1 0 1 0]\n",
      " [0 1 0 1 0 1 0 1]]\n"
     ]
    }
   ],
   "source": [
    "z = np.tile(np.array([[1, 0], [0, 1]]), (4, 4))   # Numpy的 tile() 函数，就是将原矩阵横向、纵向地复制。tile 是瓷砖的意思，顾名思义，这个函数就是把数组像瓷砖一样铺展开来。\n",
    "print (z)  # 与18题比较"
   ]
  },
  {
   "cell_type": "markdown",
   "metadata": {},
   "source": [
    "## 21.对5x5的矩阵进行归一化处理"
   ]
  },
  {
   "cell_type": "code",
   "execution_count": 5,
   "metadata": {},
   "outputs": [
    {
     "name": "stdout",
     "output_type": "stream",
     "text": [
      "[[0.47430705 0.0268811  0.72517853 0.38137987 0.23531972]\n",
      " [0.425798   0.32693542 0.95932263 0.96434464 0.9500165 ]\n",
      " [0.         0.4405471  0.66051211 0.88052588 0.94412481]\n",
      " [0.26797844 0.90743708 0.77370921 0.63281031 0.58875746]\n",
      " [0.46129603 0.94813333 1.         0.48436442 0.29950568]]\n"
     ]
    }
   ],
   "source": [
    "z = np.random.random((5, 5))\n",
    "zmax, zmin = z.max(), z.min()\n",
    "z = (z-zmin)/(zmax-zmin)\n",
    "print (z)"
   ]
  },
  {
   "cell_type": "markdown",
   "metadata": {},
   "source": [
    "## 22.创建一个dtype来表示颜色(RGBA)"
   ]
  },
  {
   "cell_type": "code",
   "execution_count": 9,
   "metadata": {},
   "outputs": [
    {
     "name": "stdout",
     "output_type": "stream",
     "text": [
      "(255, 255, 255, 1)\n"
     ]
    }
   ],
   "source": [
    "color = np.dtype([(\"r\", \"u1\"),\n",
    "                  (\"g\", \"u1\"),\n",
    "                  (\"b\", \"u1\"),\n",
    "                  (\"a\", \"u1\")])\n",
    "c = np.array((255, 255, 255, 1), dtype=color)\n",
    "print (c)\n",
    "# 参考 https://www.runoob.com/numpy/numpy-dtype.html"
   ]
  },
  {
   "cell_type": "markdown",
   "metadata": {},
   "source": [
    "## 23. 一个5x3的矩阵和一个3x2的矩阵相乘"
   ]
  },
  {
   "cell_type": "code",
   "execution_count": 10,
   "metadata": {},
   "outputs": [
    {
     "name": "stdout",
     "output_type": "stream",
     "text": [
      "[[0. 0.]\n",
      " [0. 0.]\n",
      " [0. 0.]\n",
      " [0. 0.]\n",
      " [0. 0.]]\n"
     ]
    }
   ],
   "source": [
    "z = np.dot(np.zeros((5, 3)), np.zeros((3, 2)))\n",
    "print(z)"
   ]
  },
  {
   "cell_type": "markdown",
   "metadata": {},
   "source": [
    "## 24.给定一个一维数组把它索引从3到8的元素求相反数"
   ]
  },
  {
   "cell_type": "code",
   "execution_count": 11,
   "metadata": {},
   "outputs": [
    {
     "name": "stdout",
     "output_type": "stream",
     "text": [
      "[ 0  1  2  3  4  5  6  7  8  9 10]\n",
      "[ 0  1  2 -3 -4 -5 -6 -7  8  9 10]\n"
     ]
    }
   ],
   "source": [
    "z = np.arange(11)\n",
    "print(z)\n",
    "z[(3 <= z) & (z< 8)] *= -1\n",
    "print (z)"
   ]
  },
  {
   "cell_type": "markdown",
   "metadata": {},
   "source": [
    "## 25.脚本的结果"
   ]
  },
  {
   "cell_type": "code",
   "execution_count": 28,
   "metadata": {},
   "outputs": [
    {
     "name": "stdout",
     "output_type": "stream",
     "text": [
      "9\n",
      "10\n"
     ]
    }
   ],
   "source": [
    "print(sum(range(5),-1))    #这里的sum是python内置函数，-1与 0 1 2 3 4相加                              \n",
    "print(np.sum(range(5),-1))               \n",
    "# axis : None or int or tuple of ints, optional\n",
    "# Axis or axes along which a sum is performed.\n",
    "# The default, axis=None, will sum all of the elements of the input array.\n",
    "# If axis is negative it counts from the last to the first axis.\n",
    "# If axis is a tuple of ints, a sum is performed on all of the axes\n",
    "# specified in the tuple instead of a single axis or all the axes as before."
   ]
  },
  {
   "cell_type": "markdown",
   "metadata": {},
   "source": [
    "## 26.关于整形的向量Z下面哪些表达式正确？"
   ]
  },
  {
   "cell_type": "code",
   "execution_count": 33,
   "metadata": {},
   "outputs": [
    {
     "name": "stdout",
     "output_type": "stream",
     "text": [
      "[1]\n",
      "[0]\n",
      "[False]\n",
      "[0.+0.j]\n",
      "[0.]\n",
      "[False]\n"
     ]
    }
   ],
   "source": [
    "Z = np.arange(1)\n",
    "print(Z**Z)                       \n",
    "print(2 << Z >> 2)                \n",
    "print(Z <- Z)                      \n",
    "print(1j*Z)                              \n",
    "print(Z/1/1)                   \n",
    "print(Z<Z>Z)                "
   ]
  },
  {
   "cell_type": "markdown",
   "metadata": {},
   "source": [
    "## 27.表达式的结果"
   ]
  },
  {
   "cell_type": "code",
   "execution_count": 39,
   "metadata": {},
   "outputs": [
    {
     "name": "stdout",
     "output_type": "stream",
     "text": [
      "0\n",
      "nan\n",
      "0\n",
      "[-2.14748365e+09]\n"
     ]
    },
    {
     "name": "stderr",
     "output_type": "stream",
     "text": [
      "<ipython-input-39-0edc99e7aa8d>:2: RuntimeWarning: invalid value encountered in true_divide\n",
      "  print(np.array(0) / np.array(0))\n",
      "<ipython-input-39-0edc99e7aa8d>:3: RuntimeWarning: divide by zero encountered in floor_divide\n",
      "  print(np.array(0) // np.array(0))\n"
     ]
    }
   ],
   "source": [
    "print(np.array(0))\n",
    "print(np.array(0) / np.array(0))                        \n",
    "print(np.array(0) // np.array(0))                       \n",
    "print(np.array([np.nan]).astype(int).astype(float))        "
   ]
  },
  {
   "cell_type": "markdown",
   "metadata": {},
   "source": [
    "## 28.如何从零位开始舍入浮点数组？"
   ]
  },
  {
   "cell_type": "code",
   "execution_count": 41,
   "metadata": {},
   "outputs": [
    {
     "name": "stdout",
     "output_type": "stream",
     "text": [
      "[ 4.70454933 -0.76561337 -2.03743278  5.59359348 -1.51702668 -6.4891078\n",
      " -5.30089474  4.27223443 -3.64620231  5.17250497]\n",
      "[ 5. -1. -3.  6. -2. -7. -6.  5. -4.  6.]\n"
     ]
    }
   ],
   "source": [
    "Z = np.random.uniform(-10,+10,10)\n",
    "print(Z)\n",
    "print (np.copysign(np.ceil(np.abs(Z)), Z)) #向上取整"
   ]
  },
  {
   "cell_type": "markdown",
   "metadata": {},
   "source": [
    "## 29.如何找出两个数组公共的元素"
   ]
  },
  {
   "cell_type": "code",
   "execution_count": 44,
   "metadata": {},
   "outputs": [
    {
     "name": "stdout",
     "output_type": "stream",
     "text": [
      "[4 5 8 0 8 3 1 2 3 9] [6 5 7 7 1 0 5 1 1 7]\n",
      "[0 1 5]\n"
     ]
    }
   ],
   "source": [
    "Z1 = np.random.randint(0, 10, 10)\n",
    "Z2 = np.random.randint(0, 10, 10)\n",
    "print(Z1,Z2)\n",
    "print (np.intersect1d(Z1, Z2))"
   ]
  },
  {
   "cell_type": "markdown",
   "metadata": {},
   "source": [
    "## 30.如何忽略numpy的警告信息"
   ]
  },
  {
   "cell_type": "code",
   "execution_count": 46,
   "metadata": {},
   "outputs": [
    {
     "name": "stdout",
     "output_type": "stream",
     "text": [
      "[inf]\n"
     ]
    }
   ],
   "source": [
    "with np.errstate(divide='ignore'):\n",
    "    Z = np.ones(1) / 0\n",
    "print(Z)"
   ]
  },
  {
   "cell_type": "markdown",
   "metadata": {},
   "source": [
    "## 31.表达式是否为真"
   ]
  },
  {
   "cell_type": "code",
   "execution_count": 48,
   "metadata": {},
   "outputs": [
    {
     "name": "stdout",
     "output_type": "stream",
     "text": [
      "nan\n",
      "1j\n",
      "False\n"
     ]
    },
    {
     "name": "stderr",
     "output_type": "stream",
     "text": [
      "<ipython-input-48-d41fcb2e2eaf>:1: RuntimeWarning: invalid value encountered in sqrt\n",
      "  print(np.sqrt(-1))\n",
      "<ipython-input-48-d41fcb2e2eaf>:3: RuntimeWarning: invalid value encountered in sqrt\n",
      "  print(np.sqrt(-1) == np.emath.sqrt(-1))\n"
     ]
    }
   ],
   "source": [
    "print(np.sqrt(-1))\n",
    "print(np.emath.sqrt(-1)) # 对负实数开方\n",
    "print(np.sqrt(-1) == np.emath.sqrt(-1))"
   ]
  },
  {
   "cell_type": "markdown",
   "metadata": {},
   "source": [
    "## 32.获得昨天，今天和明天的日期"
   ]
  },
  {
   "cell_type": "code",
   "execution_count": 49,
   "metadata": {},
   "outputs": [
    {
     "name": "stdout",
     "output_type": "stream",
     "text": [
      "2021-05-04 2021-05-05 2021-05-06\n"
     ]
    }
   ],
   "source": [
    "yesterday = np.datetime64('today', 'D') - np.timedelta64(1, 'D')\n",
    "today = np.datetime64('today', 'D')\n",
    "tomorrow = np.datetime64('today', 'D') + np.timedelta64(1, 'D')\n",
    "print(yesterday,today,tomorrow)"
   ]
  },
  {
   "cell_type": "markdown",
   "metadata": {},
   "source": [
    "## 33.获得所有与2016年7月的所有日期"
   ]
  },
  {
   "cell_type": "code",
   "execution_count": 50,
   "metadata": {},
   "outputs": [
    {
     "name": "stdout",
     "output_type": "stream",
     "text": [
      "['2016-07-01' '2016-07-02' '2016-07-03' '2016-07-04' '2016-07-05'\n",
      " '2016-07-06' '2016-07-07' '2016-07-08' '2016-07-09' '2016-07-10'\n",
      " '2016-07-11' '2016-07-12' '2016-07-13' '2016-07-14' '2016-07-15'\n",
      " '2016-07-16' '2016-07-17' '2016-07-18' '2016-07-19' '2016-07-20'\n",
      " '2016-07-21' '2016-07-22' '2016-07-23' '2016-07-24' '2016-07-25'\n",
      " '2016-07-26' '2016-07-27' '2016-07-28' '2016-07-29' '2016-07-30'\n",
      " '2016-07-31']\n"
     ]
    }
   ],
   "source": [
    "Z = np.arange('2016-07', '2016-08', dtype='datetime64[D]')\n",
    "print (Z)"
   ]
  },
  {
   "cell_type": "markdown",
   "metadata": {},
   "source": [
    "## 34.计算 ((A+B)*(-A/2)) (不使用中间变量)"
   ]
  },
  {
   "cell_type": "code",
   "execution_count": 52,
   "metadata": {},
   "outputs": [
    {
     "data": {
      "text/plain": [
       "array([-1., -1., -1.])"
      ]
     },
     "execution_count": 52,
     "metadata": {},
     "output_type": "execute_result"
    }
   ],
   "source": [
    "A = np.ones(3) * 1\n",
    "B = np.ones(3) * 1\n",
    "np.add(A, B, out=B)\n",
    "np.divide(A, 2, out=A)\n",
    "np.negative(A, out=A)\n",
    "np.multiply(A, B, out=A)"
   ]
  },
  {
   "cell_type": "markdown",
   "metadata": {},
   "source": [
    "## 35.5种不同的方法提取随机数组中的整数部分 "
   ]
  },
  {
   "cell_type": "code",
   "execution_count": 54,
   "metadata": {},
   "outputs": [
    {
     "name": "stdout",
     "output_type": "stream",
     "text": [
      "[8. 5. 3. 1. 1. 2. 9. 7. 6. 5.]\n",
      "[8. 5. 3. 1. 1. 2. 9. 7. 6. 5.]\n",
      "[8. 5. 3. 1. 1. 2. 9. 7. 6. 5.]\n",
      "[8 5 3 1 1 2 9 7 6 5]\n",
      "[8. 5. 3. 1. 1. 2. 9. 7. 6. 5.]\n"
     ]
    }
   ],
   "source": [
    "Z = np.random.uniform(0, 10, 10)\n",
    "print (Z - Z % 1)\n",
    "print (np.floor(Z))\n",
    "print (np.ceil(Z)-1)\n",
    "print (Z.astype(int))\n",
    "print (np.trunc(Z))"
   ]
  },
  {
   "cell_type": "markdown",
   "metadata": {},
   "source": [
    "## 36.创建一个5x5的矩阵且每一行的值范围为从0到4"
   ]
  },
  {
   "cell_type": "code",
   "execution_count": 55,
   "metadata": {},
   "outputs": [
    {
     "name": "stdout",
     "output_type": "stream",
     "text": [
      "[[0. 1. 2. 3. 4.]\n",
      " [0. 1. 2. 3. 4.]\n",
      " [0. 1. 2. 3. 4.]\n",
      " [0. 1. 2. 3. 4.]\n",
      " [0. 1. 2. 3. 4.]]\n"
     ]
    }
   ],
   "source": [
    "Z = np.zeros((5, 5))\n",
    "Z += np.arange(5)\n",
    "print (Z)"
   ]
  },
  {
   "cell_type": "markdown",
   "metadata": {},
   "source": [
    "## 37.用一个生成10个整数的函数来构建数组"
   ]
  },
  {
   "cell_type": "code",
   "execution_count": 57,
   "metadata": {},
   "outputs": [
    {
     "name": "stdout",
     "output_type": "stream",
     "text": [
      "[0. 1. 2. 3. 4. 5. 6. 7. 8. 9.]\n"
     ]
    }
   ],
   "source": [
    "def generate():\n",
    "    for x in range(10):\n",
    "      yield x\n",
    "Z = np.fromiter(generate(), dtype=float, count=-1) #从可迭代对象中建立 ndarray 对象，返回一维数组。\n",
    "print (Z)  #count 读取的数据数量，默认为-1，读取所有数据"
   ]
  },
  {
   "cell_type": "markdown",
   "metadata": {},
   "source": [
    "## 38.创建一个大小为10的向量， 值域为0到1，不包括0和1"
   ]
  },
  {
   "cell_type": "code",
   "execution_count": 58,
   "metadata": {},
   "outputs": [
    {
     "name": "stdout",
     "output_type": "stream",
     "text": [
      "[0.09090909 0.18181818 0.27272727 0.36363636 0.45454545 0.54545455\n",
      " 0.63636364 0.72727273 0.81818182 0.90909091]\n"
     ]
    }
   ],
   "source": [
    "Z = np.linspace(0, 1, 12, endpoint=True)[1: -1] # 创建等差数列\n",
    "print (Z) #endpoint：True则包含stop；False则不包含stop"
   ]
  },
  {
   "cell_type": "markdown",
   "metadata": {},
   "source": [
    "## 39.创建一个大小为10的随机向量，并把它排序 "
   ]
  },
  {
   "cell_type": "code",
   "execution_count": 59,
   "metadata": {},
   "outputs": [
    {
     "name": "stdout",
     "output_type": "stream",
     "text": [
      "[0.09374586 0.20140731 0.3824021  0.40318742 0.48693488 0.54157834\n",
      " 0.69204672 0.77852531 0.84560376 0.90390985]\n"
     ]
    }
   ],
   "source": [
    "Z = np.random.random(10)\n",
    "Z.sort()\n",
    "print (Z)"
   ]
  },
  {
   "cell_type": "markdown",
   "metadata": {},
   "source": [
    "## 40.对一个小数组进行求和有没有办法比np.sum更快?"
   ]
  },
  {
   "cell_type": "code",
   "execution_count": 60,
   "metadata": {},
   "outputs": [
    {
     "data": {
      "text/plain": [
       "45"
      ]
     },
     "execution_count": 60,
     "metadata": {},
     "output_type": "execute_result"
    }
   ],
   "source": [
    "Z = np.arange(10)\n",
    "np.add.reduce(Z)\n",
    " \n",
    "# np.add.reduce 是numpy.add模块中的一个ufunc(universal function)函数,C语言实现"
   ]
  },
  {
   "cell_type": "markdown",
   "metadata": {},
   "source": [
    "## 41.判断两随机数组相等"
   ]
  },
  {
   "cell_type": "code",
   "execution_count": 61,
   "metadata": {},
   "outputs": [
    {
     "name": "stdout",
     "output_type": "stream",
     "text": [
      "False\n",
      "False\n"
     ]
    }
   ],
   "source": [
    "A = np.random.randint(0, 2, 5)\n",
    "B = np.random.randint(0, 2, 5)\n",
    " \n",
    "# 假设array的形状(shape)相同和一个误差容限（tolerance）\n",
    "equal = np.allclose(A,B)\n",
    "print(equal)\n",
    " \n",
    "# 检查形状和元素值，没有误差容限（值必须完全相等）\n",
    "equal = np.array_equal(A,B)\n",
    "print(equal)"
   ]
  },
  {
   "cell_type": "markdown",
   "metadata": {},
   "source": [
    "## 42.把数组变为只读 "
   ]
  },
  {
   "cell_type": "code",
   "execution_count": 62,
   "metadata": {},
   "outputs": [
    {
     "ename": "ValueError",
     "evalue": "assignment destination is read-only",
     "output_type": "error",
     "traceback": [
      "\u001b[1;31m---------------------------------------------------------------------------\u001b[0m",
      "\u001b[1;31mValueError\u001b[0m                                Traceback (most recent call last)",
      "\u001b[1;32m<ipython-input-62-69e6f2f21e44>\u001b[0m in \u001b[0;36m<module>\u001b[1;34m\u001b[0m\n\u001b[0;32m      1\u001b[0m \u001b[0mZ\u001b[0m \u001b[1;33m=\u001b[0m \u001b[0mnp\u001b[0m\u001b[1;33m.\u001b[0m\u001b[0mzeros\u001b[0m\u001b[1;33m(\u001b[0m\u001b[1;36m5\u001b[0m\u001b[1;33m)\u001b[0m\u001b[1;33m\u001b[0m\u001b[1;33m\u001b[0m\u001b[0m\n\u001b[0;32m      2\u001b[0m \u001b[0mZ\u001b[0m\u001b[1;33m.\u001b[0m\u001b[0mflags\u001b[0m\u001b[1;33m.\u001b[0m\u001b[0mwriteable\u001b[0m \u001b[1;33m=\u001b[0m \u001b[1;32mFalse\u001b[0m\u001b[1;33m\u001b[0m\u001b[1;33m\u001b[0m\u001b[0m\n\u001b[1;32m----> 3\u001b[1;33m \u001b[0mZ\u001b[0m\u001b[1;33m[\u001b[0m\u001b[1;36m0\u001b[0m\u001b[1;33m]\u001b[0m \u001b[1;33m=\u001b[0m \u001b[1;36m1\u001b[0m\u001b[1;33m\u001b[0m\u001b[1;33m\u001b[0m\u001b[0m\n\u001b[0m",
      "\u001b[1;31mValueError\u001b[0m: assignment destination is read-only"
     ]
    }
   ],
   "source": [
    "Z = np.zeros(5)\n",
    "Z.flags.writeable = False\n",
    "Z[0] = 1"
   ]
  },
  {
   "cell_type": "markdown",
   "metadata": {},
   "source": [
    "## 43.将一个10x2的笛卡尔坐标矩阵转换为极坐标"
   ]
  },
  {
   "cell_type": "code",
   "execution_count": 63,
   "metadata": {},
   "outputs": [
    {
     "name": "stdout",
     "output_type": "stream",
     "text": [
      "[0.45707806 1.29159    0.84502621 0.69012472 1.08610316 0.49610172\n",
      " 0.93102084 0.08143107 1.13148973 0.7107599 ]\n",
      "[0.77812323 0.78435136 1.5224033  0.71857987 1.02287834 0.00318516\n",
      " 0.25838437 0.51418952 0.89644771 1.05879984]\n"
     ]
    }
   ],
   "source": [
    "Z = np.random.random((10, 2))\n",
    "X, Y = Z[:, 0], Z[:, 1]\n",
    "R = np.sqrt(X**2 + Y**2)\n",
    "T = np.arctan2(Y, X)\n",
    "print (R)\n",
    "print (T)"
   ]
  },
  {
   "cell_type": "markdown",
   "metadata": {},
   "source": [
    "## 44.创建一个大小为10的随机向量并且将该向量中最大的值替换为0"
   ]
  },
  {
   "cell_type": "code",
   "execution_count": 64,
   "metadata": {},
   "outputs": [
    {
     "name": "stdout",
     "output_type": "stream",
     "text": [
      "[0.03258604 0.37537635 0.54417802 0.56099009 0.13137432 0.12960956\n",
      " 0.         0.77951373 0.71638318 0.14412255]\n"
     ]
    }
   ],
   "source": [
    "Z = np.random.random(10)\n",
    "Z[Z.argmax()] = 0\n",
    "print (Z)"
   ]
  },
  {
   "cell_type": "markdown",
   "metadata": {},
   "source": [
    "## 45.创建一个结构化数组，其中x和y坐标覆盖[0, 1]x[1, 0]区域"
   ]
  },
  {
   "cell_type": "code",
   "execution_count": 67,
   "metadata": {},
   "outputs": [
    {
     "name": "stdout",
     "output_type": "stream",
     "text": [
      "[[(0.  , 0.  ) (0.25, 0.  ) (0.5 , 0.  ) (0.75, 0.  ) (1.  , 0.  )]\n",
      " [(0.  , 0.25) (0.25, 0.25) (0.5 , 0.25) (0.75, 0.25) (1.  , 0.25)]\n",
      " [(0.  , 0.5 ) (0.25, 0.5 ) (0.5 , 0.5 ) (0.75, 0.5 ) (1.  , 0.5 )]\n",
      " [(0.  , 0.75) (0.25, 0.75) (0.5 , 0.75) (0.75, 0.75) (1.  , 0.75)]\n",
      " [(0.  , 1.  ) (0.25, 1.  ) (0.5 , 1.  ) (0.75, 1.  ) (1.  , 1.  )]]\n",
      "[[0.   0.25 0.5  0.75 1.  ]\n",
      " [0.   0.25 0.5  0.75 1.  ]\n",
      " [0.   0.25 0.5  0.75 1.  ]\n",
      " [0.   0.25 0.5  0.75 1.  ]\n",
      " [0.   0.25 0.5  0.75 1.  ]]\n",
      "[[0.   0.   0.   0.   0.  ]\n",
      " [0.25 0.25 0.25 0.25 0.25]\n",
      " [0.5  0.5  0.5  0.5  0.5 ]\n",
      " [0.75 0.75 0.75 0.75 0.75]\n",
      " [1.   1.   1.   1.   1.  ]]\n"
     ]
    }
   ],
   "source": [
    "Z = np.zeros((5, 5), [('x', float), ('y', float)]) #生成坐标矩阵\n",
    "Z['x'], Z['y'] = np.meshgrid(np.linspace(0, 1, 5), np.linspace(0, 1, 5))\n",
    "print (Z) # meshgrid 从坐标向量中返回坐标矩阵 参考https://blog.csdn.net/littlehaes/article/details/83543459\n",
    "print(Z['x']) #返回list,有两个元素,第一个元素是X轴的取值,第二个元素是Y轴的取值\n",
    "print(Z['y'])"
   ]
  },
  {
   "cell_type": "markdown",
   "metadata": {},
   "source": [
    "## 46.给定两个数组X和Y，构造柯西(Cauchy)矩阵C  $$(C_{ij}=\\frac{1}{x_i-y_j})$$"
   ]
  },
  {
   "cell_type": "code",
   "execution_count": 69,
   "metadata": {},
   "outputs": [
    {
     "name": "stdout",
     "output_type": "stream",
     "text": [
      "[[-2.         -0.66666667 -0.4        -0.28571429 -0.22222222 -0.18181818\n",
      "  -0.15384615 -0.13333333]\n",
      " [ 2.         -2.         -0.66666667 -0.4        -0.28571429 -0.22222222\n",
      "  -0.18181818 -0.15384615]\n",
      " [ 0.66666667  2.         -2.         -0.66666667 -0.4        -0.28571429\n",
      "  -0.22222222 -0.18181818]\n",
      " [ 0.4         0.66666667  2.         -2.         -0.66666667 -0.4\n",
      "  -0.28571429 -0.22222222]\n",
      " [ 0.28571429  0.4         0.66666667  2.         -2.         -0.66666667\n",
      "  -0.4        -0.28571429]\n",
      " [ 0.22222222  0.28571429  0.4         0.66666667  2.         -2.\n",
      "  -0.66666667 -0.4       ]\n",
      " [ 0.18181818  0.22222222  0.28571429  0.4         0.66666667  2.\n",
      "  -2.         -0.66666667]\n",
      " [ 0.15384615  0.18181818  0.22222222  0.28571429  0.4         0.66666667\n",
      "   2.         -2.        ]]\n",
      "3638.1636371179666\n"
     ]
    }
   ],
   "source": [
    "X = np.arange(8)\n",
    "Y = X + 0.5\n",
    "C = 1.0 / np.subtract.outer(X, Y) #实现X与Y中的每个元素相减\n",
    "print (C)\n",
    "print(np.linalg.det(C)) # 计算行列式"
   ]
  },
  {
   "cell_type": "markdown",
   "metadata": {},
   "source": [
    "## 47.打印每个numpy 类型的最小和最大可表示值"
   ]
  },
  {
   "cell_type": "code",
   "execution_count": 70,
   "metadata": {},
   "outputs": [
    {
     "name": "stdout",
     "output_type": "stream",
     "text": [
      "-128\n",
      "127\n",
      "-2147483648\n",
      "2147483647\n",
      "-9223372036854775808\n",
      "9223372036854775807\n",
      "-3.4028235e+38\n",
      "3.4028235e+38\n",
      "1.1920929e-07\n",
      "-1.7976931348623157e+308\n",
      "1.7976931348623157e+308\n",
      "2.220446049250313e-16\n"
     ]
    }
   ],
   "source": [
    "for dtype in [np.int8, np.int32, np.int64]:\n",
    "   print(np.iinfo(dtype).min)\n",
    "   print(np.iinfo(dtype).max)\n",
    "for dtype in [np.float32, np.float64]:\n",
    "   print(np.finfo(dtype).min)\n",
    "   print(np.finfo(dtype).max)\n",
    "   print(np.finfo(dtype).eps) #eps是取非负的最小值"
   ]
  },
  {
   "cell_type": "markdown",
   "metadata": {},
   "source": [
    "## 48.如何打印数组中所有的值？"
   ]
  },
  {
   "cell_type": "code",
   "execution_count": 78,
   "metadata": {},
   "outputs": [
    {
     "name": "stdout",
     "output_type": "stream",
     "text": [
      "[[0. 0. 0. 0. 0. 0. 0. 0. 0. 0. 0. 0. 0. 0. 0. 0.]\n",
      " [0. 0. 0. 0. 0. 0. 0. 0. 0. 0. 0. 0. 0. 0. 0. 0.]\n",
      " [0. 0. 0. 0. 0. 0. 0. 0. 0. 0. 0. 0. 0. 0. 0. 0.]\n",
      " [0. 0. 0. 0. 0. 0. 0. 0. 0. 0. 0. 0. 0. 0. 0. 0.]\n",
      " [0. 0. 0. 0. 0. 0. 0. 0. 0. 0. 0. 0. 0. 0. 0. 0.]\n",
      " [0. 0. 0. 0. 0. 0. 0. 0. 0. 0. 0. 0. 0. 0. 0. 0.]\n",
      " [0. 0. 0. 0. 0. 0. 0. 0. 0. 0. 0. 0. 0. 0. 0. 0.]\n",
      " [0. 0. 0. 0. 0. 0. 0. 0. 0. 0. 0. 0. 0. 0. 0. 0.]\n",
      " [0. 0. 0. 0. 0. 0. 0. 0. 0. 0. 0. 0. 0. 0. 0. 0.]\n",
      " [0. 0. 0. 0. 0. 0. 0. 0. 0. 0. 0. 0. 0. 0. 0. 0.]\n",
      " [0. 0. 0. 0. 0. 0. 0. 0. 0. 0. 0. 0. 0. 0. 0. 0.]\n",
      " [0. 0. 0. 0. 0. 0. 0. 0. 0. 0. 0. 0. 0. 0. 0. 0.]\n",
      " [0. 0. 0. 0. 0. 0. 0. 0. 0. 0. 0. 0. 0. 0. 0. 0.]\n",
      " [0. 0. 0. 0. 0. 0. 0. 0. 0. 0. 0. 0. 0. 0. 0. 0.]\n",
      " [0. 0. 0. 0. 0. 0. 0. 0. 0. 0. 0. 0. 0. 0. 0. 0.]\n",
      " [0. 0. 0. 0. 0. 0. 0. 0. 0. 0. 0. 0. 0. 0. 0. 0.]]\n"
     ]
    }
   ],
   "source": [
    "np.set_printoptions(threshold=np.inf)\n",
    "Z = np.zeros((16,16))\n",
    "print(Z)"
   ]
  },
  {
   "cell_type": "markdown",
   "metadata": {},
   "source": [
    "## 49.在数组中找到与给定标量接近的值"
   ]
  },
  {
   "cell_type": "code",
   "execution_count": 80,
   "metadata": {},
   "outputs": [
    {
     "name": "stdout",
     "output_type": "stream",
     "text": [
      "37.31729964406958\n",
      "37\n"
     ]
    }
   ],
   "source": [
    "Z = np.arange(100)\n",
    "v = np.random.uniform(0, 100) #上下界的界定范围内随机取一个值\n",
    "print(v)\n",
    "index = (np.abs(Z-v)).argmin()\n",
    "print(Z[index])"
   ]
  },
  {
   "cell_type": "markdown",
   "metadata": {},
   "source": [
    "## 50.创建表示位置(x, y)和颜色(r, g, b, a)的结构化数组 "
   ]
  },
  {
   "cell_type": "code",
   "execution_count": 84,
   "metadata": {},
   "outputs": [
    {
     "name": "stdout",
     "output_type": "stream",
     "text": [
      "[((0., 0.), (0., 0., 0., 0.)) ((0., 0.), (0., 0., 0., 0.))\n",
      " ((0., 0.), (0., 0., 0., 0.)) ((0., 0.), (0., 0., 0., 0.))\n",
      " ((0., 0.), (0., 0., 0., 0.)) ((0., 0.), (0., 0., 0., 0.))\n",
      " ((0., 0.), (0., 0., 0., 0.)) ((0., 0.), (0., 0., 0., 0.))\n",
      " ((0., 0.), (0., 0., 0., 0.)) ((0., 0.), (0., 0., 0., 0.))]\n"
     ]
    }
   ],
   "source": [
    "Z = np.zeros(10, [('position', [('x', 'f4'), \n",
    "                                ('y', 'f4')]),\n",
    "                  ('color',    [('r', 'f4'), \n",
    "                                ('g', 'f4'), \n",
    "                                ('b', 'f4'),\n",
    "                               ('a', 'f4')])])\n",
    "print (Z)"
   ]
  },
  {
   "cell_type": "markdown",
   "metadata": {},
   "source": [
    "## 51.形状为(100, 2)的随机向量，求出点与点之间的距离"
   ]
  },
  {
   "cell_type": "code",
   "execution_count": 2,
   "metadata": {},
   "outputs": [
    {
     "name": "stdout",
     "output_type": "stream",
     "text": [
      "[[0.         0.91937147 0.10847654 ... 0.80742715 0.17628865 0.6955973 ]\n",
      " [0.91937147 0.         1.00754377 ... 0.31241612 1.04456927 0.26811937]\n",
      " [0.10847654 1.00754377 0.         ... 0.9111794  0.07276103 0.77221232]\n",
      " ...\n",
      " [0.80742715 0.31241612 0.9111794  ... 0.         0.96539553 0.4047863 ]\n",
      " [0.17628865 1.04456927 0.07276103 ... 0.96539553 0.         0.80056556]\n",
      " [0.6955973  0.26811937 0.77221232 ... 0.4047863  0.80056556 0.        ]]\n"
     ]
    }
   ],
   "source": [
    "Z = np.random.random((100, 2))\n",
    "X, Y = np.atleast_2d(Z[:, 0], Z[:, 1])# 至少二维\n",
    "D = np.sqrt((X-X.T)**2 + (Y-Y.T)**2)\n",
    "print (D)"
   ]
  },
  {
   "cell_type": "code",
   "execution_count": 6,
   "metadata": {},
   "outputs": [
    {
     "name": "stdout",
     "output_type": "stream",
     "text": [
      "[[0.         0.77756618 0.80963002 ... 0.26884102 0.09514692 0.02368273]\n",
      " [0.77756618 0.         0.65338105 ... 0.69124909 0.73267743 0.7593713 ]\n",
      " [0.80963002 0.65338105 0.         ... 0.55101022 0.71616693 0.78626978]\n",
      " ...\n",
      " [0.26884102 0.69124909 0.55101022 ... 0.         0.17387693 0.2470979 ]\n",
      " [0.09514692 0.73267743 0.71616693 ... 0.17387693 0.         0.07324554]\n",
      " [0.02368273 0.7593713  0.78626978 ... 0.2470979  0.07324554 0.        ]]\n",
      "(100, 100)\n"
     ]
    }
   ],
   "source": [
    "import scipy.spatial\n",
    " \n",
    "Z = np.random.random((100,2))\n",
    "D = scipy.spatial.distance.cdist(Z,Z)\n",
    "print(D)\n",
    "print(D.shape) #计算的是向量与向量之间点的距离"
   ]
  },
  {
   "cell_type": "markdown",
   "metadata": {},
   "source": [
    "## 52.将类型为float(32位)的数组类型转换为integer(32位)"
   ]
  },
  {
   "cell_type": "code",
   "execution_count": 8,
   "metadata": {},
   "outputs": [
    {
     "name": "stdout",
     "output_type": "stream",
     "text": [
      "[0. 1. 2. 3. 4. 5. 6. 7. 8. 9.]\n",
      "[0 1 2 3 4 5 6 7 8 9]\n"
     ]
    }
   ],
   "source": [
    "Z = np.arange(10, dtype=np.float32)\n",
    "print(Z)\n",
    "Z = Z.astype(np.int32, copy=False)\n",
    "print(Z)"
   ]
  },
  {
   "cell_type": "markdown",
   "metadata": {},
   "source": [
    "## 53.处理缺失数据"
   ]
  },
  {
   "cell_type": "code",
   "execution_count": 11,
   "metadata": {},
   "outputs": [
    {
     "name": "stdout",
     "output_type": "stream",
     "text": [
      "[[ 1.  2.  3.  4.  5.]\n",
      " [ 6. nan nan  7.  8.]\n",
      " [nan nan  9. 10. 11.]]\n"
     ]
    }
   ],
   "source": [
    "data = u\"1,2,3,4,5 \\n 6,,,7,8\\n ,,9,10,11\"\n",
    "from io import StringIO\n",
    "Z = np.genfromtxt(StringIO(data), delimiter=\",\")  #数据加载时能够处理丢失数据\n",
    "print(Z) "
   ]
  },
  {
   "cell_type": "markdown",
   "metadata": {},
   "source": [
    "## 54.numpy数组枚举(enumerate)的等价操作"
   ]
  },
  {
   "cell_type": "code",
   "execution_count": 12,
   "metadata": {},
   "outputs": [
    {
     "name": "stdout",
     "output_type": "stream",
     "text": [
      "(0, 0) 0\n",
      "(0, 1) 1\n",
      "(0, 2) 2\n",
      "(1, 0) 3\n",
      "(1, 1) 4\n",
      "(1, 2) 5\n",
      "(2, 0) 6\n",
      "(2, 1) 7\n",
      "(2, 2) 8\n",
      "(0, 0) 0\n",
      "(0, 1) 1\n",
      "(0, 2) 2\n",
      "(1, 0) 3\n",
      "(1, 1) 4\n",
      "(1, 2) 5\n",
      "(2, 0) 6\n",
      "(2, 1) 7\n",
      "(2, 2) 8\n"
     ]
    }
   ],
   "source": [
    "Z = np.arange(9).reshape(3,3)\n",
    "for index, value in np.ndenumerate(Z):\n",
    "    print(index, value)\n",
    "for index in np.ndindex(Z.shape):\n",
    "    print(index, Z[index])"
   ]
  },
  {
   "cell_type": "markdown",
   "metadata": {},
   "source": [
    "## 55.构造一个二维高斯矩阵"
   ]
  },
  {
   "cell_type": "code",
   "execution_count": 13,
   "metadata": {},
   "outputs": [
    {
     "name": "stdout",
     "output_type": "stream",
     "text": [
      "[[0.36787944 0.44822088 0.51979489 0.57375342 0.60279818 0.60279818\n",
      "  0.57375342 0.51979489 0.44822088 0.36787944]\n",
      " [0.44822088 0.54610814 0.63331324 0.69905581 0.73444367 0.73444367\n",
      "  0.69905581 0.63331324 0.54610814 0.44822088]\n",
      " [0.51979489 0.63331324 0.73444367 0.81068432 0.85172308 0.85172308\n",
      "  0.81068432 0.73444367 0.63331324 0.51979489]\n",
      " [0.57375342 0.69905581 0.81068432 0.89483932 0.9401382  0.9401382\n",
      "  0.89483932 0.81068432 0.69905581 0.57375342]\n",
      " [0.60279818 0.73444367 0.85172308 0.9401382  0.98773022 0.98773022\n",
      "  0.9401382  0.85172308 0.73444367 0.60279818]\n",
      " [0.60279818 0.73444367 0.85172308 0.9401382  0.98773022 0.98773022\n",
      "  0.9401382  0.85172308 0.73444367 0.60279818]\n",
      " [0.57375342 0.69905581 0.81068432 0.89483932 0.9401382  0.9401382\n",
      "  0.89483932 0.81068432 0.69905581 0.57375342]\n",
      " [0.51979489 0.63331324 0.73444367 0.81068432 0.85172308 0.85172308\n",
      "  0.81068432 0.73444367 0.63331324 0.51979489]\n",
      " [0.44822088 0.54610814 0.63331324 0.69905581 0.73444367 0.73444367\n",
      "  0.69905581 0.63331324 0.54610814 0.44822088]\n",
      " [0.36787944 0.44822088 0.51979489 0.57375342 0.60279818 0.60279818\n",
      "  0.57375342 0.51979489 0.44822088 0.36787944]]\n"
     ]
    }
   ],
   "source": [
    "X, Y = np.meshgrid(np.linspace(-1, 1, 10), np.linspace(-1, 1, 10))\n",
    "D = np.sqrt(X**2 + Y**2)\n",
    "sigma, mu = 1.0, 0.0\n",
    "G = np.exp(-( (D-mu)**2 / (2.0*sigma**2) ))  # 标准正态分布\n",
    "print (G)"
   ]
  },
  {
   "cell_type": "markdown",
   "metadata": {},
   "source": [
    "## 56.在二维数组的随机位置放置p个元素"
   ]
  },
  {
   "cell_type": "code",
   "execution_count": 14,
   "metadata": {},
   "outputs": [
    {
     "name": "stdout",
     "output_type": "stream",
     "text": [
      "[[0. 0. 0. 0. 0. 0. 0. 0. 0. 0.]\n",
      " [0. 0. 0. 0. 1. 0. 0. 0. 0. 0.]\n",
      " [0. 0. 0. 0. 0. 0. 0. 0. 0. 0.]\n",
      " [0. 0. 0. 0. 0. 0. 0. 0. 0. 0.]\n",
      " [0. 0. 0. 0. 0. 0. 0. 0. 0. 0.]\n",
      " [0. 0. 0. 0. 0. 0. 0. 0. 0. 0.]\n",
      " [0. 0. 0. 0. 0. 0. 0. 0. 1. 0.]\n",
      " [0. 0. 0. 0. 0. 0. 0. 0. 0. 0.]\n",
      " [0. 0. 0. 0. 0. 0. 0. 0. 1. 0.]\n",
      " [0. 0. 0. 0. 0. 0. 0. 0. 0. 0.]]\n"
     ]
    }
   ],
   "source": [
    "n = 10\n",
    "p = 3\n",
    "Z = np.zeros((n,n))\n",
    "np.put(Z, np.random.choice(range(n*n), p, replace=False),1)\n",
    "print(Z)"
   ]
  },
  {
   "cell_type": "markdown",
   "metadata": {},
   "source": [
    "## 57.减去矩阵每一行的平均值"
   ]
  },
  {
   "cell_type": "code",
   "execution_count": 15,
   "metadata": {},
   "outputs": [
    {
     "name": "stdout",
     "output_type": "stream",
     "text": [
      "[[-0.24908492  0.39779916 -0.06348296  0.02645171 -0.27174069  0.09665724\n",
      "   0.30618244 -0.2837998  -0.39454581  0.43556362]\n",
      " [-0.24676102  0.32270599 -0.03527711  0.41762117 -0.53698457 -0.12023018\n",
      "   0.1577122  -0.0164284   0.24837634 -0.19073443]\n",
      " [ 0.04799645 -0.44420298 -0.14217728 -0.12346859  0.08898532 -0.28162879\n",
      "   0.08258229  0.44473941  0.29818793  0.02898624]\n",
      " [-0.62506109  0.17299199  0.21358952 -0.64876668  0.23283136 -0.15589716\n",
      "   0.26043387  0.20985549  0.17488357  0.16513913]\n",
      " [ 0.2483132  -0.42123523 -0.11704327  0.3801291  -0.14272969 -0.14133112\n",
      "  -0.56417173  0.34851235  0.23701653  0.17253985]]\n"
     ]
    }
   ],
   "source": [
    "X = np.random.rand(5, 10)\n",
    "Y = X - X.mean(axis=1, keepdims=True) #行为1 列为0\n",
    "print(Y)"
   ]
  },
  {
   "cell_type": "markdown",
   "metadata": {},
   "source": [
    "## 58.对数组通过第n列进行排序"
   ]
  },
  {
   "cell_type": "code",
   "execution_count": 17,
   "metadata": {},
   "outputs": [
    {
     "name": "stdout",
     "output_type": "stream",
     "text": [
      "[[2 6 7]\n",
      " [7 3 3]\n",
      " [8 0 1]]\n",
      "[[8 0 1]\n",
      " [7 3 3]\n",
      " [2 6 7]]\n"
     ]
    }
   ],
   "source": [
    "Z = np.random.randint(0,10,(3,3))\n",
    "print(Z)\n",
    "print(Z[ Z[:,1].argsort() ])"
   ]
  },
  {
   "cell_type": "markdown",
   "metadata": {},
   "source": [
    "## 59.判断一个给定的二维数组存在空列"
   ]
  },
  {
   "cell_type": "code",
   "execution_count": 25,
   "metadata": {},
   "outputs": [
    {
     "name": "stdout",
     "output_type": "stream",
     "text": [
      "[[0 1 0 1 0 0 0 1 2 2]\n",
      " [2 2 1 0 1 0 2 0 1 2]\n",
      " [1 1 1 0 1 0 0 0 1 2]]\n",
      "[[-1 -2 -1 -2 -1 -1 -1 -2 -3 -3]\n",
      " [-3 -3 -2 -1 -2 -1 -3 -1 -2 -3]\n",
      " [-2 -2 -2 -1 -2 -1 -1 -1 -2 -3]]\n",
      "[False False False False False  True False False False False]\n",
      "True\n"
     ]
    }
   ],
   "source": [
    "Z = np.random.randint(0,3,(3,10))\n",
    "print(Z)\n",
    "print(~Z) # 取反运算符  ~x 类似于 -x-1\n",
    "print(~Z.any(axis=0))   #判断给定的可迭代参数 iterable 是否全部为 False\n",
    "print((~Z.any(axis=0)).any())"
   ]
  },
  {
   "cell_type": "markdown",
   "metadata": {},
   "source": [
    "## 60.从数组中找出与给定值最接近的值（参考49题） "
   ]
  },
  {
   "cell_type": "code",
   "execution_count": 27,
   "metadata": {},
   "outputs": [
    {
     "name": "stdout",
     "output_type": "stream",
     "text": [
      "0.48196069313772727\n"
     ]
    }
   ],
   "source": [
    "Z = np.random.uniform(0,1,10)\n",
    "z = 0.5\n",
    "m = Z.flat[np.abs(Z - z).argmin()]\n",
    "print(m)"
   ]
  },
  {
   "cell_type": "markdown",
   "metadata": {},
   "source": [
    "## 61.形状为(1, 3)和(3, 1)的两个数组形状，如何使用迭代器计算它们的和?"
   ]
  },
  {
   "cell_type": "code",
   "execution_count": 34,
   "metadata": {},
   "outputs": [
    {
     "name": "stdout",
     "output_type": "stream",
     "text": [
      "[[0]\n",
      " [1]\n",
      " [2]]\n",
      "[[0 1 2]]\n",
      "[[0 1 2]\n",
      " [1 2 3]\n",
      " [2 3 4]]\n"
     ]
    }
   ],
   "source": [
    "A = np.arange(3).reshape(3, 1)\n",
    "B = np.arange(3).reshape(1, 3)\n",
    "print(A)\n",
    "print(B)\n",
    "it = np.nditer([A, B, None]) # 默认情况下是order = 'K'， 就是上述的访问方式。另外有：order = 'C'和order = 'F'。不妨理解为：C是按行访问，F是按列访问。\n",
    "for x, y, z in it:   \n",
    "    z[...] = x + y   # ？？？\n",
    "print (it.operands[2])"
   ]
  },
  {
   "cell_type": "markdown",
   "metadata": {},
   "source": [
    "## 62.创建一个具有name属性的数组类"
   ]
  },
  {
   "cell_type": "code",
   "execution_count": 36,
   "metadata": {},
   "outputs": [
    {
     "name": "stdout",
     "output_type": "stream",
     "text": [
      "range_10\n"
     ]
    }
   ],
   "source": [
    "class NameArray(np.ndarray):\n",
    "    def __new__(cls, array, name=\"no name\"):\n",
    "        obj = np.asarray(array).view(cls)\n",
    "        obj.name = name\n",
    "        return obj\n",
    "    def __array_finalize__(self, obj):\n",
    "        if obj is None: return\n",
    "        self.info = getattr(obj, 'name', \"no name\")\n",
    " \n",
    "Z = NameArray(np.arange(10), \"range_10\")\n",
    "print (Z.name)"
   ]
  },
  {
   "cell_type": "markdown",
   "metadata": {},
   "source": [
    "## 63.给定一个向量，如何让在第二个向量索引的每个元素加1(注意重复索引)"
   ]
  },
  {
   "cell_type": "code",
   "execution_count": 39,
   "metadata": {},
   "outputs": [
    {
     "name": "stdout",
     "output_type": "stream",
     "text": [
      "[3 8 9 3 2 2 8 7 0 4 2 6 2 1 1 0 5 9 7 0]\n",
      "[4. 3. 5. 3. 2. 2. 2. 3. 3. 3.]\n",
      "[7. 5. 9. 5. 3. 3. 3. 5. 5. 5.]\n"
     ]
    }
   ],
   "source": [
    "Z = np.ones(10)\n",
    "I = np.random.randint(0,len(Z),20)\n",
    "print(I)\n",
    "Z += np.bincount(I, minlength=len(Z)) #索引值在向量中出现的次数\n",
    "print(Z)\n",
    "np.add.at(Z, I, 1)\n",
    "print(Z)"
   ]
  },
  {
   "cell_type": "markdown",
   "metadata": {},
   "source": [
    "## 64.根据索引列表I将向量X的元素累加到数组F"
   ]
  },
  {
   "cell_type": "code",
   "execution_count": 41,
   "metadata": {},
   "outputs": [
    {
     "name": "stdout",
     "output_type": "stream",
     "text": [
      "[0. 7. 0. 6. 5. 0. 0. 0. 0. 3.]\n"
     ]
    }
   ],
   "source": [
    "X = [1,2,3,4,5,6]\n",
    "I = [1,3,9,3,4,1]\n",
    "F = np.bincount(I,X)   # weights为X,若没有weights则+1\n",
    "print(F)\n",
    "# 0 0\n",
    "# 1 1+6\n",
    "# 2 0\n",
    "# 3 2+4\n",
    "# 4 5\n",
    "# 9 3"
   ]
  },
  {
   "cell_type": "markdown",
   "metadata": {},
   "source": [
    "## 65.(dtype = ubyte)的(w, h, 3)图像，计算唯一颜色的值"
   ]
  },
  {
   "cell_type": "code",
   "execution_count": 42,
   "metadata": {},
   "outputs": [
    {
     "name": "stdout",
     "output_type": "stream",
     "text": [
      "[0 1]\n"
     ]
    }
   ],
   "source": [
    "w,h = 16,16\n",
    "I = np.random.randint(0,2,(h,w,3)).astype(np.ubyte)\n",
    "F = I[...,0]*256*256 + I[...,1]*256 +I[...,2]\n",
    "n = len(np.unique(F))\n",
    "print(np.unique(I))"
   ]
  },
  {
   "cell_type": "markdown",
   "metadata": {},
   "source": [
    "## 66.求一个四维数组最后两个轴的数据和"
   ]
  },
  {
   "cell_type": "code",
   "execution_count": 43,
   "metadata": {},
   "outputs": [
    {
     "name": "stdout",
     "output_type": "stream",
     "text": [
      "[[64 62 43 51]\n",
      " [57 36 61 41]\n",
      " [52 57 51 53]]\n"
     ]
    }
   ],
   "source": [
    "A = np.random.randint(0,10,(3,4,3,4))\n",
    "sum = A.sum(axis=(-2,-1))\n",
    "print(sum)\n",
    " "
   ]
  },
  {
   "cell_type": "code",
   "execution_count": 44,
   "metadata": {},
   "outputs": [
    {
     "name": "stdout",
     "output_type": "stream",
     "text": [
      "[[64 62 43 51]\n",
      " [57 36 61 41]\n",
      " [52 57 51 53]]\n"
     ]
    }
   ],
   "source": [
    "# 将最后两个维度压缩为一个\n",
    "# (适用于不接受轴元组参数的函数)\n",
    "sum = A.reshape(A.shape[:-2] + (-1,)).sum(axis=-1)\n",
    "print(sum)"
   ]
  },
  {
   "cell_type": "markdown",
   "metadata": {},
   "source": [
    "## 67.一维向量D，如何使用相同大小的向量S来计算D的子集的均值，其描述子集索引？"
   ]
  },
  {
   "cell_type": "code",
   "execution_count": 45,
   "metadata": {},
   "outputs": [
    {
     "name": "stdout",
     "output_type": "stream",
     "text": [
      "[0.79672449 0.37287397 0.58591494 0.40636885 0.43854361 0.42152214\n",
      " 0.49464033 0.58486521 0.58910505 0.46278545]\n"
     ]
    }
   ],
   "source": [
    "D = np.random.uniform(0,1,100)\n",
    "S = np.random.randint(0,10,100)\n",
    "D_sums = np.bincount(S, weights=D)\n",
    "D_counts = np.bincount(S)\n",
    "D_means = D_sums / D_counts\n",
    "print(D_means)\n",
    " \n"
   ]
  },
  {
   "cell_type": "code",
   "execution_count": 46,
   "metadata": {},
   "outputs": [
    {
     "name": "stdout",
     "output_type": "stream",
     "text": [
      "0    0.796724\n",
      "1    0.372874\n",
      "2    0.585915\n",
      "3    0.406369\n",
      "4    0.438544\n",
      "5    0.421522\n",
      "6    0.494640\n",
      "7    0.584865\n",
      "8    0.589105\n",
      "9    0.462785\n",
      "dtype: float64\n"
     ]
    }
   ],
   "source": [
    "# Pandas solution as a reference due to more intuitive code\n",
    "import pandas as pd\n",
    "print(pd.Series(D).groupby(S).mean())"
   ]
  },
  {
   "cell_type": "markdown",
   "metadata": {},
   "source": [
    "## 68.获得点积的对角线"
   ]
  },
  {
   "cell_type": "code",
   "execution_count": 47,
   "metadata": {},
   "outputs": [
    {
     "data": {
      "text/plain": [
       "array([1.45548533, 0.60926186, 2.43721953, 1.26280273, 0.29929833])"
      ]
     },
     "execution_count": 47,
     "metadata": {},
     "output_type": "execute_result"
    }
   ],
   "source": [
    "A = np.random.uniform(0,1,(5,5))\n",
    "B = np.random.uniform(0,1,(5,5))\n",
    " \n",
    "# Slow version  \n",
    "np.diag(np.dot(A, B))\n",
    " \n",
    "# Fast version\n",
    "np.sum(A * B.T, axis=1)\n",
    " \n"
   ]
  },
  {
   "cell_type": "code",
   "execution_count": 48,
   "metadata": {},
   "outputs": [
    {
     "data": {
      "text/plain": [
       "array([1.45548533, 0.60926186, 2.43721953, 1.26280273, 0.29929833])"
      ]
     },
     "execution_count": 48,
     "metadata": {},
     "output_type": "execute_result"
    }
   ],
   "source": [
    "# Faster version\n",
    "np.einsum(\"ij,ji->i\", A, B)"
   ]
  },
  {
   "cell_type": "markdown",
   "metadata": {},
   "source": [
    "## 69.考虑向量[1,2,3,4,5]，如何建立一个新的向量，在每个值之间交错有3个连续的零"
   ]
  },
  {
   "cell_type": "code",
   "execution_count": 49,
   "metadata": {},
   "outputs": [
    {
     "name": "stdout",
     "output_type": "stream",
     "text": [
      "[1. 0. 0. 0. 2. 0. 0. 0. 3. 0. 0. 0. 4. 0. 0. 0. 5.]\n"
     ]
    }
   ],
   "source": [
    "Z = np.array([1,2,3,4,5])\n",
    "nz = 3\n",
    "Z0 = np.zeros(len(Z) + (len(Z)-1)*(nz))\n",
    "Z0[::nz+1] = Z\n",
    "print(Z0)"
   ]
  },
  {
   "cell_type": "markdown",
   "metadata": {},
   "source": [
    "## 70.一个维度(5,5,3)的数组，如何将其与一个(5,5)的数组相乘"
   ]
  },
  {
   "cell_type": "code",
   "execution_count": 50,
   "metadata": {},
   "outputs": [
    {
     "name": "stdout",
     "output_type": "stream",
     "text": [
      "[[[2. 2. 2.]\n",
      "  [2. 2. 2.]\n",
      "  [2. 2. 2.]\n",
      "  [2. 2. 2.]\n",
      "  [2. 2. 2.]]\n",
      "\n",
      " [[2. 2. 2.]\n",
      "  [2. 2. 2.]\n",
      "  [2. 2. 2.]\n",
      "  [2. 2. 2.]\n",
      "  [2. 2. 2.]]\n",
      "\n",
      " [[2. 2. 2.]\n",
      "  [2. 2. 2.]\n",
      "  [2. 2. 2.]\n",
      "  [2. 2. 2.]\n",
      "  [2. 2. 2.]]\n",
      "\n",
      " [[2. 2. 2.]\n",
      "  [2. 2. 2.]\n",
      "  [2. 2. 2.]\n",
      "  [2. 2. 2.]\n",
      "  [2. 2. 2.]]\n",
      "\n",
      " [[2. 2. 2.]\n",
      "  [2. 2. 2.]\n",
      "  [2. 2. 2.]\n",
      "  [2. 2. 2.]\n",
      "  [2. 2. 2.]]]\n"
     ]
    }
   ],
   "source": [
    "A = np.ones((5,5,3))\n",
    "B = 2*np.ones((5,5))\n",
    "print(A * B[:,:,None])"
   ]
  },
  {
   "cell_type": "markdown",
   "metadata": {},
   "source": [
    "## 71.对一个数组中任意两行做交换"
   ]
  },
  {
   "cell_type": "code",
   "execution_count": 2,
   "metadata": {},
   "outputs": [
    {
     "name": "stdout",
     "output_type": "stream",
     "text": [
      "[[ 0  1  2  3  4]\n",
      " [ 5  6  7  8  9]\n",
      " [10 11 12 13 14]\n",
      " [15 16 17 18 19]\n",
      " [20 21 22 23 24]]\n",
      "[[ 5  6  7  8  9]\n",
      " [ 0  1  2  3  4]\n",
      " [10 11 12 13 14]\n",
      " [15 16 17 18 19]\n",
      " [20 21 22 23 24]]\n"
     ]
    }
   ],
   "source": [
    "A = np.arange(25).reshape(5,5)\n",
    "print(A)\n",
    "A[[0,1]] = A[[1,0]]\n",
    "print(A)"
   ]
  },
  {
   "cell_type": "markdown",
   "metadata": {},
   "source": [
    "## 72.描述10个三角形（共享顶点）的一组10个三元组，找到组成所有三角形的唯一线段集"
   ]
  },
  {
   "cell_type": "code",
   "execution_count": 3,
   "metadata": {},
   "outputs": [
    {
     "name": "stdout",
     "output_type": "stream",
     "text": [
      "[( 0, 42) ( 0, 70) ( 4,  8) ( 4, 45) ( 4, 79) ( 4, 80) ( 7, 30) ( 7, 85)\n",
      " ( 8, 31) ( 8, 67) ( 8, 79) (10, 15) (10, 84) (11, 16) (11, 79) (12, 45)\n",
      " (12, 63) (15, 84) (16, 79) (18, 40) (18, 62) (26, 62) (26, 91) (30, 85)\n",
      " (31, 67) (40, 62) (42, 70) (45, 63) (45, 80) (62, 91)]\n"
     ]
    }
   ],
   "source": [
    "faces = np.random.randint(0,100,(10,3))\n",
    "F = np.roll(faces.repeat(2,axis=1),-1,axis=1)\n",
    "F = F.reshape(len(F)*3,2)\n",
    "F = np.sort(F,axis=1)\n",
    "G = F.view( dtype=[('p0',F.dtype),('p1',F.dtype)] )\n",
    "G = np.unique(G)\n",
    "print(G)"
   ]
  },
  {
   "cell_type": "markdown",
   "metadata": {},
   "source": [
    "## 73.给定一个二进制的数组C，如何生成一个数组A满足np.bincount(A)==C"
   ]
  },
  {
   "cell_type": "code",
   "execution_count": 4,
   "metadata": {},
   "outputs": [
    {
     "name": "stdout",
     "output_type": "stream",
     "text": [
      "[1 1 2 3 4 4 6]\n"
     ]
    }
   ],
   "source": [
    "C = np.bincount([1,1,2,3,4,4,6])\n",
    "A = np.repeat(np.arange(len(C)), C)\n",
    "print(A)"
   ]
  },
  {
   "cell_type": "markdown",
   "metadata": {},
   "source": [
    "## 74.通过滑动窗口计算一个数组的平均数"
   ]
  },
  {
   "cell_type": "code",
   "execution_count": 5,
   "metadata": {},
   "outputs": [
    {
     "name": "stdout",
     "output_type": "stream",
     "text": [
      "[ 1.  2.  3.  4.  5.  6.  7.  8.  9. 10. 11. 12. 13. 14. 15. 16. 17. 18.]\n"
     ]
    }
   ],
   "source": [
    " def moving_average(a, n=3) :\n",
    "    ret = np.cumsum(a, dtype=float)\n",
    "    ret[n:] = ret[n:] - ret[:-n]\n",
    "    return ret[n - 1:] / n\n",
    "Z = np.arange(20)\n",
    "print(moving_average(Z, n=3))"
   ]
  },
  {
   "cell_type": "markdown",
   "metadata": {},
   "source": [
    "## 75.以为数组Z，构建一个二维数组，其第一行是(Z[0],Z[1],Z[2])， 然后每一行移动一位，最后一行为 (Z[-3],Z[-2],Z[-1]) "
   ]
  },
  {
   "cell_type": "code",
   "execution_count": 6,
   "metadata": {},
   "outputs": [
    {
     "name": "stdout",
     "output_type": "stream",
     "text": [
      "[[0 1 2]\n",
      " [1 2 3]\n",
      " [2 3 4]\n",
      " [3 4 5]\n",
      " [4 5 6]\n",
      " [5 6 7]\n",
      " [6 7 8]\n",
      " [7 8 9]]\n"
     ]
    }
   ],
   "source": [
    "from numpy.lib import stride_tricks\n",
    " \n",
    "def rolling(a, window):\n",
    "    shape = (a.size - window + 1, window)\n",
    "    strides = (a.itemsize, a.itemsize)\n",
    "    return stride_tricks.as_strided(a, shape=shape, strides=strides)\n",
    "Z = rolling(np.arange(10), 3)\n",
    "print(Z)"
   ]
  },
  {
   "cell_type": "markdown",
   "metadata": {},
   "source": [
    "## 76.对布尔值取反，或改变浮点数的符号(sign)"
   ]
  },
  {
   "cell_type": "code",
   "execution_count": 8,
   "metadata": {},
   "outputs": [
    {
     "data": {
      "text/plain": [
       "array([ 0.79534495,  0.70561902, -0.39576721, -0.58482668,  0.9772796 ,\n",
       "       -0.58698173,  0.28921968, -0.10845836, -0.60522172, -0.96696445,\n",
       "       -0.04784919,  0.29525761,  0.64017741,  0.29995243,  0.67965242,\n",
       "       -0.406247  ,  0.62867634,  0.25796579,  0.76162946, -0.99396168,\n",
       "       -0.63077167, -0.04675077, -0.81629988,  0.65642692,  0.32367823,\n",
       "       -0.06119208, -0.76508292,  0.29043069,  0.10751477, -0.46335017,\n",
       "       -0.27018505, -0.78407933,  0.23137326,  0.40049121, -0.6571258 ,\n",
       "        0.73610036,  0.71142947, -0.94609375,  0.51440207, -0.4156998 ,\n",
       "        0.07512598, -0.24825887,  0.26922269, -0.59570583, -0.34047683,\n",
       "       -0.6497255 , -0.73527695,  0.61972126, -0.87115647,  0.30166301,\n",
       "        0.32538312,  0.20442203,  0.89390779, -0.28856136,  0.71038997,\n",
       "        0.23572385,  0.57600567, -0.55214837,  0.68717045, -0.56202957,\n",
       "       -0.23591957, -0.24747731,  0.61125086, -0.97981679, -0.58252887,\n",
       "       -0.85831754, -0.76572328,  0.66253819, -0.73031266,  0.34298962,\n",
       "       -0.60081206,  0.97627089,  0.23218236, -0.62544375,  0.51692774,\n",
       "       -0.67955238,  0.76816171,  0.57845009, -0.66662592, -0.67357473,\n",
       "        0.43242714,  0.56622279,  0.21558647,  0.87733005,  0.54130226,\n",
       "       -0.40368524, -0.29101566, -0.18672275, -0.63595253,  0.16921059,\n",
       "       -0.77669249,  0.49300879, -0.17270236, -0.57708581, -0.08005754,\n",
       "       -0.91339383, -0.04038049,  0.26359395, -0.75954795, -0.77920116])"
      ]
     },
     "execution_count": 8,
     "metadata": {},
     "output_type": "execute_result"
    }
   ],
   "source": [
    "Z = np.random.randint(0,2,100)\n",
    "np.logical_not(Z, out=Z)\n",
    " \n",
    "Z = np.random.uniform(-1.0,1.0,100)\n",
    "np.negative(Z, out=Z)"
   ]
  },
  {
   "cell_type": "markdown",
   "metadata": {},
   "source": [
    "## 77.两组点集P0和P1去描述一组线(二维)和一个点p,如何计算点p到每一条线 i (P0[i],P1[i])的距离"
   ]
  },
  {
   "cell_type": "code",
   "execution_count": 9,
   "metadata": {},
   "outputs": [
    {
     "name": "stdout",
     "output_type": "stream",
     "text": [
      "[ 2.53357992  4.84978511  8.72157237  8.10274752  0.51287501  3.59959521\n",
      "  0.62715316 12.27745539  3.35012382  1.89285118]\n"
     ]
    }
   ],
   "source": [
    "def distance(P0, P1, p):\n",
    "    T = P1 - P0\n",
    "    L = (T**2).sum(axis=1)\n",
    "    U = -((P0[:,0]-p[...,0])*T[:,0] + (P0[:,1]-p[...,1])*T[:,1]) / L\n",
    "    U = U.reshape(len(U),1)\n",
    "    D = P0 + U*T - p\n",
    "    return np.sqrt((D**2).sum(axis=1))\n",
    " \n",
    "P0 = np.random.uniform(-10,10,(10,2))\n",
    "P1 = np.random.uniform(-10,10,(10,2))\n",
    "p  = np.random.uniform(-10,10,( 1,2))\n",
    "print(distance(P0, P1, p))"
   ]
  },
  {
   "cell_type": "markdown",
   "metadata": {},
   "source": [
    "## 78.两组点集P0和P1去描述一组线(二维)和一组点集P，如何计算每一个点 j(P[j]) 到每一条线 i (P0[i],P1[i])的距离"
   ]
  },
  {
   "cell_type": "code",
   "execution_count": 10,
   "metadata": {},
   "outputs": [
    {
     "name": "stdout",
     "output_type": "stream",
     "text": [
      "[[ 6.11968561 14.65357614  8.66282448  6.33414434  8.12385991  8.29289661\n",
      "   0.52080079  9.16183567  8.72711883  8.33327118]\n",
      " [ 0.84654055 13.59438692  3.25976639  7.69527484 10.19052249 13.77193927\n",
      "   5.00947096  4.8288185   3.18959406  4.99881811]\n",
      " [11.44412054 15.90205069 14.0136345   5.16389509  6.24116049  2.85221765\n",
      "   6.02904948 13.60909879 14.2638607  11.81770813]\n",
      " [ 0.40161016  0.67348865 10.31723627  6.82354218  4.26477341  7.66328469\n",
      "   0.04089913  0.70575626  6.6398771   3.70991329]\n",
      " [14.67189863 17.03958293 17.03449734  4.8886143   5.53385987  0.25108451\n",
      "   9.20700918 16.45846948 17.50411954 14.18006416]\n",
      " [ 2.11244335  1.68314345  6.85436386  4.44723734  1.5525663  11.05114211\n",
      "   3.31911512  2.16144164  3.53735042  4.30489325]\n",
      " [ 2.58786449  2.69511356  5.71876549  3.06151464  0.10357801 12.11225401\n",
      "   4.28682041  2.10597764  2.69997909  3.87817223]\n",
      " [ 3.72315167  1.99124964 15.67157878 11.48078893  9.36539689  2.50579051\n",
      "   4.85394514  0.68139228 11.14520007  3.79785869]\n",
      " [ 6.40096243 10.2445543  11.56576817  1.16885464  2.92232496  5.71386732\n",
      "   2.70730497  7.5941035  10.38584076  5.57830899]\n",
      " [ 8.71036729  7.85390392 15.60350746  2.68269623  1.23733004  1.8524993\n",
      "   6.33844546  8.34187408 13.68253219  5.16387935]]\n"
     ]
    }
   ],
   "source": [
    "# based on distance function from previous question\n",
    "P0 = np.random.uniform(-10, 10, (10,2))\n",
    "P1 = np.random.uniform(-10,10,(10,2))\n",
    "p = np.random.uniform(-10, 10, (10,2))\n",
    "print(np.array([distance(P0,P1,p_i) for p_i in p]))"
   ]
  },
  {
   "cell_type": "markdown",
   "metadata": {},
   "source": [
    "## 79.一个任意的数组，编写一个函数，该函数提取一个具有固定形状的子部分，并以一个给定的元素为中心(在该部分填充值)"
   ]
  },
  {
   "cell_type": "code",
   "execution_count": 17,
   "metadata": {},
   "outputs": [
    {
     "name": "stdout",
     "output_type": "stream",
     "text": [
      "[[2 1 0 1 2 9 3 7 4 4]\n",
      " [5 1 4 1 2 6 3 5 4 6]\n",
      " [1 7 2 3 0 3 8 1 5 1]\n",
      " [9 6 6 0 8 4 1 8 5 8]\n",
      " [6 4 1 1 1 9 7 5 4 6]\n",
      " [5 4 5 3 9 4 3 0 0 0]\n",
      " [0 8 6 0 4 2 5 2 2 8]\n",
      " [6 3 7 5 5 9 2 7 5 9]\n",
      " [8 8 8 8 9 9 9 5 3 0]\n",
      " [8 6 8 2 9 6 7 7 0 8]]\n",
      "[[0 0 0 0 0]\n",
      " [0 2 1 0 1]\n",
      " [0 5 1 4 1]\n",
      " [0 1 7 2 3]\n",
      " [0 9 6 6 0]]\n"
     ]
    }
   ],
   "source": [
    "# Author: Nicolas Rougier\n",
    " \n",
    "Z = np.random.randint(0,10,(10,10))\n",
    "shape = (5,5)\n",
    "fill  = 0\n",
    "position = (1,1)\n",
    " \n",
    "R = np.ones(shape, dtype=Z.dtype)*fill\n",
    "P  = np.array(list(position)).astype(int)\n",
    "Rs = np.array(list(R.shape)).astype(int)\n",
    "Zs = np.array(list(Z.shape)).astype(int)\n",
    " \n",
    "R_start = np.zeros((len(shape),)).astype(int)\n",
    "R_stop  = np.array(list(shape)).astype(int)\n",
    "Z_start = (P-Rs//2)\n",
    "Z_stop  = (P+Rs//2)+Rs%2\n",
    " \n",
    "R_start = (R_start - np.minimum(Z_start,0)).tolist()\n",
    "Z_start = (np.maximum(Z_start,0)).tolist()\n",
    "R_stop = np.maximum(R_start, (R_stop - np.maximum(Z_stop-Zs,0))).tolist()\n",
    "Z_stop = (np.minimum(Z_stop,Zs)).tolist()\n",
    " \n",
    "r = [slice(start,stop) for start,stop in zip(R_start,R_stop)]\n",
    "z = [slice(start,stop) for start,stop in zip(Z_start,Z_stop)]\n",
    "R[tuple(r)] = Z[tuple(z)]\n",
    "print(Z)\n",
    "print(R)"
   ]
  },
  {
   "cell_type": "markdown",
   "metadata": {},
   "source": [
    "## 80.考虑一个数组Z = [1,2,3,4,5,6,7,8,9,10,11,12,13,14],如何生成一个数组R = [[1,2,3,4], [2,3,4,5], [3,4,5,6], ...,[11,12,13,14]]"
   ]
  },
  {
   "cell_type": "code",
   "execution_count": 18,
   "metadata": {},
   "outputs": [
    {
     "name": "stdout",
     "output_type": "stream",
     "text": [
      "[[ 1  2  3  4]\n",
      " [ 2  3  4  5]\n",
      " [ 3  4  5  6]\n",
      " [ 4  5  6  7]\n",
      " [ 5  6  7  8]\n",
      " [ 6  7  8  9]\n",
      " [ 7  8  9 10]\n",
      " [ 8  9 10 11]\n",
      " [ 9 10 11 12]\n",
      " [10 11 12 13]\n",
      " [11 12 13 14]]\n"
     ]
    }
   ],
   "source": [
    "Z = np.arange(1,15,dtype=np.uint32)\n",
    "R = stride_tricks.as_strided(Z,(11,4),(4,4))\n",
    "print(R)"
   ]
  },
  {
   "cell_type": "markdown",
   "metadata": {},
   "source": [
    "## 81.计算矩阵的秩"
   ]
  },
  {
   "cell_type": "code",
   "execution_count": 19,
   "metadata": {},
   "outputs": [
    {
     "name": "stdout",
     "output_type": "stream",
     "text": [
      "10\n"
     ]
    }
   ],
   "source": [
    "Z = np.random.uniform(0,1,(10,10))\n",
    "U, S, V = np.linalg.svd(Z) # Singular Value Decomposition\n",
    "rank = np.sum(S > 1e-10)\n",
    "print(rank)"
   ]
  },
  {
   "cell_type": "markdown",
   "metadata": {},
   "source": [
    "## 82.如何找出数组中出现频率最高的值"
   ]
  },
  {
   "cell_type": "code",
   "execution_count": 20,
   "metadata": {},
   "outputs": [
    {
     "name": "stdout",
     "output_type": "stream",
     "text": [
      "9\n"
     ]
    }
   ],
   "source": [
    "Z = np.random.randint(0,10,50)\n",
    "print(np.bincount(Z).argmax())"
   ]
  },
  {
   "cell_type": "markdown",
   "metadata": {},
   "source": [
    "## 83.从一个10x10的矩阵中提取出连续的3x3区块"
   ]
  },
  {
   "cell_type": "code",
   "execution_count": 21,
   "metadata": {},
   "outputs": [
    {
     "name": "stdout",
     "output_type": "stream",
     "text": [
      "[[[[2 4 0]\n",
      "   [4 2 3]\n",
      "   [2 4 3]]\n",
      "\n",
      "  [[4 0 1]\n",
      "   [2 3 0]\n",
      "   [4 3 2]]\n",
      "\n",
      "  [[0 1 3]\n",
      "   [3 0 3]\n",
      "   [3 2 3]]\n",
      "\n",
      "  [[1 3 2]\n",
      "   [0 3 4]\n",
      "   [2 3 4]]\n",
      "\n",
      "  [[3 2 0]\n",
      "   [3 4 1]\n",
      "   [3 4 2]]\n",
      "\n",
      "  [[2 0 4]\n",
      "   [4 1 1]\n",
      "   [4 2 3]]\n",
      "\n",
      "  [[0 4 3]\n",
      "   [1 1 2]\n",
      "   [2 3 4]]\n",
      "\n",
      "  [[4 3 2]\n",
      "   [1 2 0]\n",
      "   [3 4 2]]]\n",
      "\n",
      "\n",
      " [[[4 2 3]\n",
      "   [2 4 3]\n",
      "   [1 2 1]]\n",
      "\n",
      "  [[2 3 0]\n",
      "   [4 3 2]\n",
      "   [2 1 3]]\n",
      "\n",
      "  [[3 0 3]\n",
      "   [3 2 3]\n",
      "   [1 3 2]]\n",
      "\n",
      "  [[0 3 4]\n",
      "   [2 3 4]\n",
      "   [3 2 1]]\n",
      "\n",
      "  [[3 4 1]\n",
      "   [3 4 2]\n",
      "   [2 1 2]]\n",
      "\n",
      "  [[4 1 1]\n",
      "   [4 2 3]\n",
      "   [1 2 1]]\n",
      "\n",
      "  [[1 1 2]\n",
      "   [2 3 4]\n",
      "   [2 1 1]]\n",
      "\n",
      "  [[1 2 0]\n",
      "   [3 4 2]\n",
      "   [1 1 4]]]\n",
      "\n",
      "\n",
      " [[[2 4 3]\n",
      "   [1 2 1]\n",
      "   [4 0 2]]\n",
      "\n",
      "  [[4 3 2]\n",
      "   [2 1 3]\n",
      "   [0 2 3]]\n",
      "\n",
      "  [[3 2 3]\n",
      "   [1 3 2]\n",
      "   [2 3 4]]\n",
      "\n",
      "  [[2 3 4]\n",
      "   [3 2 1]\n",
      "   [3 4 4]]\n",
      "\n",
      "  [[3 4 2]\n",
      "   [2 1 2]\n",
      "   [4 4 0]]\n",
      "\n",
      "  [[4 2 3]\n",
      "   [1 2 1]\n",
      "   [4 0 2]]\n",
      "\n",
      "  [[2 3 4]\n",
      "   [2 1 1]\n",
      "   [0 2 1]]\n",
      "\n",
      "  [[3 4 2]\n",
      "   [1 1 4]\n",
      "   [2 1 4]]]\n",
      "\n",
      "\n",
      " [[[1 2 1]\n",
      "   [4 0 2]\n",
      "   [2 1 2]]\n",
      "\n",
      "  [[2 1 3]\n",
      "   [0 2 3]\n",
      "   [1 2 0]]\n",
      "\n",
      "  [[1 3 2]\n",
      "   [2 3 4]\n",
      "   [2 0 4]]\n",
      "\n",
      "  [[3 2 1]\n",
      "   [3 4 4]\n",
      "   [0 4 0]]\n",
      "\n",
      "  [[2 1 2]\n",
      "   [4 4 0]\n",
      "   [4 0 3]]\n",
      "\n",
      "  [[1 2 1]\n",
      "   [4 0 2]\n",
      "   [0 3 3]]\n",
      "\n",
      "  [[2 1 1]\n",
      "   [0 2 1]\n",
      "   [3 3 4]]\n",
      "\n",
      "  [[1 1 4]\n",
      "   [2 1 4]\n",
      "   [3 4 3]]]\n",
      "\n",
      "\n",
      " [[[4 0 2]\n",
      "   [2 1 2]\n",
      "   [3 4 0]]\n",
      "\n",
      "  [[0 2 3]\n",
      "   [1 2 0]\n",
      "   [4 0 3]]\n",
      "\n",
      "  [[2 3 4]\n",
      "   [2 0 4]\n",
      "   [0 3 2]]\n",
      "\n",
      "  [[3 4 4]\n",
      "   [0 4 0]\n",
      "   [3 2 2]]\n",
      "\n",
      "  [[4 4 0]\n",
      "   [4 0 3]\n",
      "   [2 2 0]]\n",
      "\n",
      "  [[4 0 2]\n",
      "   [0 3 3]\n",
      "   [2 0 0]]\n",
      "\n",
      "  [[0 2 1]\n",
      "   [3 3 4]\n",
      "   [0 0 3]]\n",
      "\n",
      "  [[2 1 4]\n",
      "   [3 4 3]\n",
      "   [0 3 1]]]\n",
      "\n",
      "\n",
      " [[[2 1 2]\n",
      "   [3 4 0]\n",
      "   [4 4 4]]\n",
      "\n",
      "  [[1 2 0]\n",
      "   [4 0 3]\n",
      "   [4 4 1]]\n",
      "\n",
      "  [[2 0 4]\n",
      "   [0 3 2]\n",
      "   [4 1 0]]\n",
      "\n",
      "  [[0 4 0]\n",
      "   [3 2 2]\n",
      "   [1 0 2]]\n",
      "\n",
      "  [[4 0 3]\n",
      "   [2 2 0]\n",
      "   [0 2 3]]\n",
      "\n",
      "  [[0 3 3]\n",
      "   [2 0 0]\n",
      "   [2 3 0]]\n",
      "\n",
      "  [[3 3 4]\n",
      "   [0 0 3]\n",
      "   [3 0 2]]\n",
      "\n",
      "  [[3 4 3]\n",
      "   [0 3 1]\n",
      "   [0 2 3]]]\n",
      "\n",
      "\n",
      " [[[3 4 0]\n",
      "   [4 4 4]\n",
      "   [4 2 3]]\n",
      "\n",
      "  [[4 0 3]\n",
      "   [4 4 1]\n",
      "   [2 3 2]]\n",
      "\n",
      "  [[0 3 2]\n",
      "   [4 1 0]\n",
      "   [3 2 3]]\n",
      "\n",
      "  [[3 2 2]\n",
      "   [1 0 2]\n",
      "   [2 3 4]]\n",
      "\n",
      "  [[2 2 0]\n",
      "   [0 2 3]\n",
      "   [3 4 3]]\n",
      "\n",
      "  [[2 0 0]\n",
      "   [2 3 0]\n",
      "   [4 3 3]]\n",
      "\n",
      "  [[0 0 3]\n",
      "   [3 0 2]\n",
      "   [3 3 0]]\n",
      "\n",
      "  [[0 3 1]\n",
      "   [0 2 3]\n",
      "   [3 0 2]]]\n",
      "\n",
      "\n",
      " [[[4 4 4]\n",
      "   [4 2 3]\n",
      "   [1 0 0]]\n",
      "\n",
      "  [[4 4 1]\n",
      "   [2 3 2]\n",
      "   [0 0 3]]\n",
      "\n",
      "  [[4 1 0]\n",
      "   [3 2 3]\n",
      "   [0 3 0]]\n",
      "\n",
      "  [[1 0 2]\n",
      "   [2 3 4]\n",
      "   [3 0 0]]\n",
      "\n",
      "  [[0 2 3]\n",
      "   [3 4 3]\n",
      "   [0 0 1]]\n",
      "\n",
      "  [[2 3 0]\n",
      "   [4 3 3]\n",
      "   [0 1 3]]\n",
      "\n",
      "  [[3 0 2]\n",
      "   [3 3 0]\n",
      "   [1 3 0]]\n",
      "\n",
      "  [[0 2 3]\n",
      "   [3 0 2]\n",
      "   [3 0 4]]]]\n"
     ]
    }
   ],
   "source": [
    "Z = np.random.randint(0,5,(10,10))\n",
    "n = 3\n",
    "i = 1 + (Z.shape[0]-3)\n",
    "j = 1 + (Z.shape[1]-3)\n",
    "C = stride_tricks.as_strided(Z, shape=(i, j, n, n), strides=Z.strides + Z.strides)\n",
    "print(C)"
   ]
  },
  {
   "cell_type": "markdown",
   "metadata": {},
   "source": [
    "## 84.创建一个满足 Z[i,j] == Z[j,i]的二维数组子类 "
   ]
  },
  {
   "cell_type": "code",
   "execution_count": 22,
   "metadata": {},
   "outputs": [
    {
     "name": "stdout",
     "output_type": "stream",
     "text": [
      "[[ 2  4  4  8  9]\n",
      " [ 4  9  9 13  2]\n",
      " [ 4  9  2 42  4]\n",
      " [ 8 13 42  6  2]\n",
      " [ 9  2  4  2  0]]\n"
     ]
    }
   ],
   "source": [
    "# Note: only works for 2d array and value setting using indices\n",
    "class Symetric(np.ndarray):\n",
    "    def __setitem__(self, index, value):\n",
    "        i,j = index\n",
    "        super(Symetric, self).__setitem__((i,j), value)\n",
    "        super(Symetric, self).__setitem__((j,i), value)\n",
    "def symetric(Z):\n",
    "    return np.asarray(Z + Z.T - np.diag(Z.diagonal())).view(Symetric)\n",
    "S = symetric(np.random.randint(0,10,(5,5)))\n",
    "S[2,3] = 42\n",
    "print(S)"
   ]
  },
  {
   "cell_type": "markdown",
   "metadata": {},
   "source": [
    "## 85.考虑p个 nxn 矩阵和一组形状为(n,1)的向量，如何直接计算p个矩阵的乘积(n,1)"
   ]
  },
  {
   "cell_type": "code",
   "execution_count": 24,
   "metadata": {},
   "outputs": [
    {
     "name": "stdout",
     "output_type": "stream",
     "text": [
      "[[200.]\n",
      " [200.]\n",
      " [200.]\n",
      " [200.]\n",
      " [200.]\n",
      " [200.]\n",
      " [200.]\n",
      " [200.]\n",
      " [200.]\n",
      " [200.]\n",
      " [200.]\n",
      " [200.]\n",
      " [200.]\n",
      " [200.]\n",
      " [200.]\n",
      " [200.]\n",
      " [200.]\n",
      " [200.]\n",
      " [200.]\n",
      " [200.]]\n"
     ]
    }
   ],
   "source": [
    "p, n = 10, 20\n",
    "M = np.ones((p,n,n))\n",
    "V = np.ones((p,n,1))\n",
    "S = np.tensordot(M, V, axes=[[0, 2], [0, 1]])\n",
    "print(S)\n",
    " \n",
    "# It works, because:\n",
    "# M is (p,n,n)\n",
    "# V is (p,n,1)\n",
    "# Thus, summing over the paired axes 0 and 0 (of M and V independently),\n",
    "# and 2 and 1, to remain with a (n,1) vector."
   ]
  },
  {
   "cell_type": "code",
   "execution_count": null,
   "metadata": {},
   "outputs": [],
   "source": []
  }
 ],
 "metadata": {
  "kernelspec": {
   "display_name": "Python 3",
   "language": "python",
   "name": "python3"
  },
  "language_info": {
   "codemirror_mode": {
    "name": "ipython",
    "version": 3
   },
   "file_extension": ".py",
   "mimetype": "text/x-python",
   "name": "python",
   "nbconvert_exporter": "python",
   "pygments_lexer": "ipython3",
   "version": "3.8.5"
  }
 },
 "nbformat": 4,
 "nbformat_minor": 4
}
